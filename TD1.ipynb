{
 "cells": [
  {
   "cell_type": "markdown",
   "id": "77827ae2-11d3-4abd-911e-1c36ccf436c2",
   "metadata": {
    "tags": []
   },
   "source": [
    "# TD 1 | Introduction à Python pour l'analyse de données\n",
    "\n",
    "---\n",
    "\n",
    "Objectifs du TD :\n",
    "\n",
    "* découvrir Python\n",
    "* se familiariser avec le langage et le notebook Jupyter\n",
    "* découvrir et maîtriser les bases des librairies de calcul numérique et d'analyse de données numpy et pandas\n",
    "\n",
    "---"
   ]
  },
  {
   "cell_type": "markdown",
   "id": "bad440b9-18a4-4b45-809d-df8d4009f3ff",
   "metadata": {
    "jp-MarkdownHeadingCollapsed": true,
    "tags": []
   },
   "source": [
    "##  Installation de Python et Jupyter"
   ]
  },
  {
   "cell_type": "markdown",
   "id": "052b229f-8f3a-4a46-8285-aa5ffd721c02",
   "metadata": {},
   "source": [
    "### Windows"
   ]
  },
  {
   "cell_type": "markdown",
   "id": "680cdce7-3be8-4b62-a670-66ba16407412",
   "metadata": {},
   "source": [
    "#### Installation Python"
   ]
  },
  {
   "cell_type": "markdown",
   "id": "e6b3a3c6-57f1-4d11-ae58-8d361881814b",
   "metadata": {},
   "source": [
    "Vérifiez si vous avez déjà une version de python installée en ouvrant l'invite de commande et en exécutant l'une des deux commandes python suivantes : \n",
    "> python --version   \n",
    "\n",
    "> python3 --version \n",
    "\n",
    "Si ce n'est pas le cas, vous pouvez procéder à l'installation comme suit :\n",
    " \n",
    "1. Allez sur le site web : https://www.python.org/downloads/windows/\n",
    "2. Cliquez sur \"Latest Python 3 Release - Python 3.10.7\".\n",
    "3. Si votre ordinateur utilise une version 64 bits de Windows, téléchargez le Windows installer (64-bit). Sinon, téléchargez Windows installer (32-bit).\n",
    "4. Après avoir téléchargé le Windows installer, vous devez l'exécuter (double-cliquez dessus) et suivre les instructions qui s'y trouvent.\n",
    "\n",
    "NB : Au début de l'installation, assurez-vous de cocher la case \"Add Python 3.10 to PATH\" ou \"Add Python to your environment variables\" avant de cliquer sur \"Install Now\".\n"
   ]
  },
  {
   "cell_type": "markdown",
   "id": "a0c71786-cf7a-4082-b26d-de236ac6d022",
   "metadata": {},
   "source": [
    "#### Installation Jupyter"
   ]
  },
  {
   "cell_type": "markdown",
   "id": "1ef7f2f9-8836-40a0-a5b6-1555ccd5ccad",
   "metadata": {},
   "source": [
    "Ouvrir l'invite de commande et exécuter la commande suivante en remplaçant Pseudo_de_votre_user par le nom de l'utilisateur de votre session : \n",
    "> cd \"C:\\Users\\Pseudo_de_votre_user\\AppData\\Local\\Programs\\Python\\Python310\\Scripts\"\n",
    "\n",
    "Ensuite, executer la commande suivante :\n",
    "> pip install jupyterlab\n",
    "\n",
    "Une fois l'installation terminée avec succès, vous pouvez lancer JupyterLab avec la commande suivante : \n",
    "> jupyter-lab\n"
   ]
  },
  {
   "cell_type": "markdown",
   "id": "1f18bb0b-a3e0-4147-adff-52137de24465",
   "metadata": {},
   "source": [
    "### Linux & Mac OS"
   ]
  },
  {
   "cell_type": "markdown",
   "id": "c6d0362e-d415-4946-9661-3790aaf46850",
   "metadata": {},
   "source": [
    "#### Installation Python"
   ]
  },
  {
   "cell_type": "markdown",
   "id": "054fa2f3-524d-4e43-ba52-a25f92566ae6",
   "metadata": {},
   "source": [
    "Normalement, Python est préinstallé sur la quasi-totalité des distributions. Vous n'avez pas besoin de le réinstaller, mais vous pouvez mettre à jour la version si vous le souhaitez.\n",
    "\n",
    "Vérifiez la version Python installée en exécutant l'une des deux commandes python suivantes sur votre terminal : \n",
    "> python --version   \n",
    "\n",
    "> python3 --version "
   ]
  },
  {
   "cell_type": "markdown",
   "id": "e234b9ae-f30b-4fde-9da6-2279277d4c1e",
   "metadata": {},
   "source": [
    "#### Installation Jupyter"
   ]
  },
  {
   "cell_type": "markdown",
   "id": "bfb4b748-f55f-4383-94ca-7337e7f8d25e",
   "metadata": {},
   "source": [
    "Vérifier que la commande pip3 est installée. Sinon, l'installer (exemple pour Debian/Ubuntu/Linux Mint, à adapter selon votre distribution) :\n",
    "\n",
    "> sudo apt install python3-pip\n",
    "\n",
    "Ensuite, installer JupyterLab en executant la commande suivante:\n",
    "> pip3 install -U jupyterlab\n",
    "\n",
    "Enfin, placez-vous dans votre dossier de travail et lancez un notebook :\n",
    "\n",
    "> jupyter-lab"
   ]
  },
  {
   "cell_type": "markdown",
   "id": "8cd7d902-7c1f-4c31-bb41-0ede4b4f4481",
   "metadata": {
    "tags": []
   },
   "source": [
    "## Syntaxe et Concepts de base"
   ]
  },
  {
   "cell_type": "code",
   "execution_count": 1,
   "id": "0ee8dd39-7266-41a1-97b7-38a4f8afeb75",
   "metadata": {},
   "outputs": [],
   "source": [
    "a = 33\n",
    "b = 9\n",
    "c = 2.0"
   ]
  },
  {
   "cell_type": "code",
   "execution_count": 2,
   "id": "3d194b33-77ab-40df-992b-dde6eec290c6",
   "metadata": {},
   "outputs": [
    {
     "data": {
      "text/plain": [
       "42"
      ]
     },
     "execution_count": 2,
     "metadata": {},
     "output_type": "execute_result"
    }
   ],
   "source": [
    "a+b"
   ]
  },
  {
   "cell_type": "code",
   "execution_count": 3,
   "id": "f5c7e24e-c8d9-4995-8e3b-82b52aa5e249",
   "metadata": {},
   "outputs": [
    {
     "name": "stdout",
     "output_type": "stream",
     "text": [
      "42\n"
     ]
    }
   ],
   "source": [
    "print(a+b)"
   ]
  },
  {
   "cell_type": "code",
   "execution_count": 4,
   "id": "7148b94b-4779-4037-a5c5-9cf80f91fed3",
   "metadata": {},
   "outputs": [
    {
     "data": {
      "text/plain": [
       "int"
      ]
     },
     "execution_count": 4,
     "metadata": {},
     "output_type": "execute_result"
    }
   ],
   "source": [
    "type(a)"
   ]
  },
  {
   "cell_type": "code",
   "execution_count": 5,
   "id": "b0eb2c18-eee8-4609-860b-021facfabc8e",
   "metadata": {},
   "outputs": [
    {
     "data": {
      "text/plain": [
       "float"
      ]
     },
     "execution_count": 5,
     "metadata": {},
     "output_type": "execute_result"
    }
   ],
   "source": [
    "type(c)"
   ]
  },
  {
   "cell_type": "code",
   "execution_count": 6,
   "id": "d3a788ce-fc30-48e7-add2-89c1950c1bfe",
   "metadata": {},
   "outputs": [
    {
     "data": {
      "text/plain": [
       "str"
      ]
     },
     "execution_count": 6,
     "metadata": {},
     "output_type": "execute_result"
    }
   ],
   "source": [
    "a = 'hello'\n",
    "type(a)"
   ]
  },
  {
   "cell_type": "code",
   "execution_count": 7,
   "id": "ae0eaa4f-9eb1-40bb-95ef-8152eba98c00",
   "metadata": {},
   "outputs": [
    {
     "name": "stdout",
     "output_type": "stream",
     "text": [
      "2\n",
      "4\n",
      "6\n",
      "8\n",
      "10\n"
     ]
    }
   ],
   "source": [
    "# Affiche les entiers pairs de 1 à 10\n",
    "for i in range(1, 11):\n",
    "    if i % 2 == 0:\n",
    "        print(i)"
   ]
  },
  {
   "cell_type": "markdown",
   "id": "6fb92b5a-910f-44d0-8c1c-902425b24bdf",
   "metadata": {},
   "source": [
    "### List"
   ]
  },
  {
   "cell_type": "code",
   "execution_count": 8,
   "id": "5c3a8a72-3737-4c72-bda2-af1fdfd5e015",
   "metadata": {},
   "outputs": [],
   "source": [
    "l = [1,2,3,4,4]"
   ]
  },
  {
   "cell_type": "markdown",
   "id": "b53eba5e-dc86-46c5-ad37-4fc08743839c",
   "metadata": {},
   "source": [
    "#### len, max, min"
   ]
  },
  {
   "cell_type": "code",
   "execution_count": 9,
   "id": "f3645b14-5244-47c2-9601-0b2defe3bbec",
   "metadata": {},
   "outputs": [
    {
     "name": "stdout",
     "output_type": "stream",
     "text": [
      "longueur de la liste = 5\n",
      "Valeur max de l = 4\n",
      "Valeur min de l = 1\n"
     ]
    }
   ],
   "source": [
    "print('longueur de la liste =', len(l))\n",
    "print(\"Valeur max de l =\", max(l))\n",
    "print(\"Valeur min de l =\", min(l))"
   ]
  },
  {
   "cell_type": "markdown",
   "id": "c6a972ff-7ef0-4a5a-ba61-7ffef0c39ea3",
   "metadata": {},
   "source": [
    "#### Ajout d'un élément d'une liste"
   ]
  },
  {
   "cell_type": "code",
   "execution_count": 10,
   "id": "fcf6650e-7979-43e7-8dba-8e8892e1dadc",
   "metadata": {},
   "outputs": [
    {
     "data": {
      "text/plain": [
       "[1, 2, 3, 4, 4, 6]"
      ]
     },
     "execution_count": 10,
     "metadata": {},
     "output_type": "execute_result"
    }
   ],
   "source": [
    "l.append(6)\n",
    "l"
   ]
  },
  {
   "cell_type": "code",
   "execution_count": 11,
   "id": "3da51e13-280c-4f24-835e-5aa60d379ee4",
   "metadata": {},
   "outputs": [
    {
     "data": {
      "text/plain": [
       "[1, 2, 3, 4, 4, 6, 7]"
      ]
     },
     "execution_count": 11,
     "metadata": {},
     "output_type": "execute_result"
    }
   ],
   "source": [
    "l = l+[7]\n",
    "l"
   ]
  },
  {
   "cell_type": "code",
   "execution_count": 12,
   "id": "9be84535-c2a4-4392-aee3-ed4ab377a1f0",
   "metadata": {},
   "outputs": [
    {
     "data": {
      "text/plain": [
       "[1, 2, 3, 4, 4, 6, 7, 7]"
      ]
     },
     "execution_count": 12,
     "metadata": {},
     "output_type": "execute_result"
    }
   ],
   "source": [
    "l+=[7]\n",
    "l"
   ]
  },
  {
   "cell_type": "markdown",
   "id": "8eab9db9-840e-4d2c-b2d3-89ceedfc0939",
   "metadata": {},
   "source": [
    "#### Modifier un élément"
   ]
  },
  {
   "cell_type": "code",
   "execution_count": 13,
   "id": "21c8b22d-c227-4b9e-81b4-b81946df5bfd",
   "metadata": {},
   "outputs": [
    {
     "data": {
      "text/plain": [
       "[29, 2, 3, 4, 4, 6, 7, 7]"
      ]
     },
     "execution_count": 13,
     "metadata": {},
     "output_type": "execute_result"
    }
   ],
   "source": [
    "l[0] = 29\n",
    "l"
   ]
  },
  {
   "cell_type": "code",
   "execution_count": 14,
   "id": "b47b506b-8f32-4190-b652-c8b95c84510d",
   "metadata": {},
   "outputs": [
    {
     "data": {
      "text/plain": [
       "[29, 9, 2, 3, 4, 4, 6, 7, 7]"
      ]
     },
     "execution_count": 14,
     "metadata": {},
     "output_type": "execute_result"
    }
   ],
   "source": [
    "l.insert(1,9)\n",
    "l"
   ]
  },
  {
   "cell_type": "markdown",
   "id": "99bc03d9-4c18-44e5-b0fb-ccdeeb16b24d",
   "metadata": {},
   "source": [
    "#### Suppression des éléments d'une liste"
   ]
  },
  {
   "cell_type": "code",
   "execution_count": 15,
   "id": "15bfebe5-cdd6-443e-ba6c-b135381d400e",
   "metadata": {},
   "outputs": [
    {
     "data": {
      "text/plain": [
       "[29, 9, 2, 3, 4, 4, 6, 7]"
      ]
     },
     "execution_count": 15,
     "metadata": {},
     "output_type": "execute_result"
    }
   ],
   "source": [
    "l.remove(7)\n",
    "l"
   ]
  },
  {
   "cell_type": "code",
   "execution_count": 16,
   "id": "5e65da05-40b2-4780-bdd8-7d74a625def2",
   "metadata": {},
   "outputs": [
    {
     "data": {
      "text/plain": [
       "[29, 9, 3, 4, 4, 6, 7]"
      ]
     },
     "execution_count": 16,
     "metadata": {},
     "output_type": "execute_result"
    }
   ],
   "source": [
    "l.pop(2)\n",
    "l"
   ]
  },
  {
   "cell_type": "markdown",
   "id": "05a40f33-80eb-40db-92e6-da821bacff04",
   "metadata": {},
   "source": [
    "#### Trier une liste"
   ]
  },
  {
   "cell_type": "code",
   "execution_count": 17,
   "id": "fb0bad2f-5d2a-449a-9212-cd1a2f531b1a",
   "metadata": {},
   "outputs": [
    {
     "name": "stdout",
     "output_type": "stream",
     "text": [
      "[29, 9, 7, 6, 4, 4, 3]\n"
     ]
    }
   ],
   "source": [
    "l.sort(reverse=True)\n",
    "print(l)"
   ]
  },
  {
   "cell_type": "code",
   "execution_count": 18,
   "id": "030e5309-6898-4dff-8ac5-0701d65849da",
   "metadata": {},
   "outputs": [
    {
     "name": "stdout",
     "output_type": "stream",
     "text": [
      "Sorted list: [3, 4, 4, 6, 7, 9, 29]\n"
     ]
    }
   ],
   "source": [
    "l_sorted = sorted(l)\n",
    "print('Sorted list:', l_sorted)"
   ]
  },
  {
   "cell_type": "markdown",
   "id": "86b74b2c-b621-4fd4-9f41-16e8ea4bff2c",
   "metadata": {},
   "source": [
    "#### Liste non homogène"
   ]
  },
  {
   "cell_type": "code",
   "execution_count": 19,
   "id": "a52cec2d-11f3-4383-ab50-c62aa1dc2257",
   "metadata": {},
   "outputs": [
    {
     "name": "stdout",
     "output_type": "stream",
     "text": [
      "<class 'list'>\n"
     ]
    },
    {
     "data": {
      "text/plain": [
       "[1, 'un', 2, 'deux', 3, 'trois']"
      ]
     },
     "execution_count": 19,
     "metadata": {},
     "output_type": "execute_result"
    }
   ],
   "source": [
    "l = [1, 'un', 2]\n",
    "l.append('deux')\n",
    "l += [3, 'trois']\n",
    "print(type(l))\n",
    "l"
   ]
  },
  {
   "cell_type": "code",
   "execution_count": 20,
   "id": "c237d423-0a57-4056-9077-7eeb8c321be4",
   "metadata": {},
   "outputs": [
    {
     "name": "stdout",
     "output_type": "stream",
     "text": [
      "<class 'tuple'>\n"
     ]
    },
    {
     "data": {
      "text/plain": [
       "('deux', 'trois')"
      ]
     },
     "execution_count": 20,
     "metadata": {},
     "output_type": "execute_result"
    }
   ],
   "source": [
    "a = l[3], l[-1]\n",
    "print(type(a))\n",
    "a"
   ]
  },
  {
   "cell_type": "code",
   "execution_count": 21,
   "id": "d6626821-592c-4d4f-adf2-c2acf7b155a0",
   "metadata": {},
   "outputs": [
    {
     "data": {
      "text/plain": [
       "'deux'"
      ]
     },
     "execution_count": 21,
     "metadata": {},
     "output_type": "execute_result"
    }
   ],
   "source": [
    "a[0]"
   ]
  },
  {
   "cell_type": "code",
   "execution_count": 22,
   "id": "b00b9acf-847b-40af-9ad1-f0e7a27a6e3e",
   "metadata": {},
   "outputs": [
    {
     "data": {
      "text/plain": [
       "[1, 2, 4, 8, 16, 32, 64, 128, 256, 512]"
      ]
     },
     "execution_count": 22,
     "metadata": {},
     "output_type": "execute_result"
    }
   ],
   "source": [
    "[2**p for p in range(10)] # \"Compréhension de liste\""
   ]
  },
  {
   "cell_type": "code",
   "execution_count": 23,
   "id": "946a4e8d-45d4-47d9-b500-1c2ae8624541",
   "metadata": {},
   "outputs": [
    {
     "name": "stdout",
     "output_type": "stream",
     "text": [
      "[2, 4, 6, 8, 10]\n"
     ]
    }
   ],
   "source": [
    "# Liste des entiers pairs de 1 à 10\n",
    "l = [i for i in range(1, 11) if i % 2 == 0]\n",
    "print(l)"
   ]
  },
  {
   "cell_type": "markdown",
   "id": "51ed9059-e7a3-4864-96d9-8ecdd5f297c2",
   "metadata": {},
   "source": [
    "### Tuple"
   ]
  },
  {
   "cell_type": "code",
   "execution_count": 24,
   "id": "d84aece0-87fb-4af0-adcb-bb66190d47cf",
   "metadata": {},
   "outputs": [
    {
     "name": "stdout",
     "output_type": "stream",
     "text": [
      "p= (1, 2, 3, 4)\n",
      "p[0] =  1\n"
     ]
    }
   ],
   "source": [
    "p = tuple(range(1,5))\n",
    "print(\"p=\", p)\n",
    "print(\"p[0] = \", p[0])"
   ]
  },
  {
   "cell_type": "code",
   "execution_count": 25,
   "id": "c752b6fe-28c7-44c5-9a55-8a336e4f8cf1",
   "metadata": {},
   "outputs": [
    {
     "name": "stdout",
     "output_type": "stream",
     "text": [
      "([1, 2], 5)\n",
      "([8, 2], 5)\n"
     ]
    }
   ],
   "source": [
    "p = ([1,2],5)\n",
    "\n",
    "print(p)\n",
    "\n",
    "p[0][0] = 8\n",
    "\n",
    "print(p)"
   ]
  },
  {
   "cell_type": "code",
   "execution_count": 26,
   "id": "f06b05b8-7eeb-4bec-95c9-d2928b9bdd1d",
   "metadata": {},
   "outputs": [
    {
     "ename": "TypeError",
     "evalue": "'tuple' object does not support item assignment",
     "output_type": "error",
     "traceback": [
      "\u001b[0;31m---------------------------------------------------------------------------\u001b[0m",
      "\u001b[0;31mTypeError\u001b[0m                                 Traceback (most recent call last)",
      "\u001b[1;32m/Users/abanishbaskaradevan/Dossier Pages Sur Ordinateur/MACS 3/TD Statistique/TD1.ipynb Cellule 47\u001b[0m line \u001b[0;36m2\n\u001b[1;32m      <a href='vscode-notebook-cell:/Users/abanishbaskaradevan/Dossier%20Pages%20Sur%20Ordinateur/MACS%203/TD%20Statistique/TD1.ipynb#X64sZmlsZQ%3D%3D?line=0'>1</a>\u001b[0m \u001b[39m# Les éléments du tuple sont fixes\u001b[39;00m\n\u001b[0;32m----> <a href='vscode-notebook-cell:/Users/abanishbaskaradevan/Dossier%20Pages%20Sur%20Ordinateur/MACS%203/TD%20Statistique/TD1.ipynb#X64sZmlsZQ%3D%3D?line=1'>2</a>\u001b[0m p[\u001b[39m0\u001b[39m] \u001b[39m=\u001b[39m \u001b[39m6\u001b[39m\n",
      "\u001b[0;31mTypeError\u001b[0m: 'tuple' object does not support item assignment"
     ]
    }
   ],
   "source": [
    "# Les éléments du tuple sont fixes\n",
    "p[0] = 6"
   ]
  },
  {
   "cell_type": "code",
   "execution_count": 27,
   "id": "3ed9e289-25df-4697-92ae-47f0544f9609",
   "metadata": {},
   "outputs": [
    {
     "name": "stdout",
     "output_type": "stream",
     "text": [
      "False\n"
     ]
    }
   ],
   "source": [
    "p1 = (1,2)\n",
    "p2 = (2,1)\n",
    "\n",
    "print(p1 == p2)"
   ]
  },
  {
   "cell_type": "markdown",
   "id": "a03da136-b600-4f8a-94a1-9243f97a2391",
   "metadata": {},
   "source": [
    "### Set"
   ]
  },
  {
   "cell_type": "code",
   "execution_count": 28,
   "id": "71da9218-67a8-4746-8a87-fc36b93d957d",
   "metadata": {},
   "outputs": [
    {
     "name": "stdout",
     "output_type": "stream",
     "text": [
      "{1, 2, 'l'}\n",
      "{9, 4, 5}\n"
     ]
    }
   ],
   "source": [
    "s = set((1,2,'l'))\n",
    "print(s)\n",
    "\n",
    "s = {4,5,9,9,9,9}\n",
    "print(s)"
   ]
  },
  {
   "cell_type": "code",
   "execution_count": 29,
   "id": "7469e205-4f7a-48b7-abd4-3bc7010b5bdc",
   "metadata": {},
   "outputs": [
    {
     "name": "stdout",
     "output_type": "stream",
     "text": [
      "{9, 4, 5, 6}\n"
     ]
    }
   ],
   "source": [
    "#Ajout d'un élément au set\n",
    "s.add(6)\n",
    "print(s)"
   ]
  },
  {
   "cell_type": "code",
   "execution_count": 30,
   "id": "1d6a9fa6-1df3-45cc-9813-a9525bd93b35",
   "metadata": {},
   "outputs": [
    {
     "name": "stdout",
     "output_type": "stream",
     "text": [
      "{9, 4, 6}\n"
     ]
    }
   ],
   "source": [
    "#Suppression d'un élément du set\n",
    "s.discard(5)\n",
    "print(s)"
   ]
  },
  {
   "cell_type": "code",
   "execution_count": 31,
   "id": "9bf72333-377f-45aa-8200-dbc1423ef110",
   "metadata": {},
   "outputs": [
    {
     "name": "stdout",
     "output_type": "stream",
     "text": [
      "set()\n"
     ]
    }
   ],
   "source": [
    "s.clear()\n",
    "print(s)"
   ]
  },
  {
   "cell_type": "code",
   "execution_count": 32,
   "id": "df41d914-39f5-4f0e-ad17-47bcf9add690",
   "metadata": {},
   "outputs": [],
   "source": [
    "A = {1,2,3,4,5}\n",
    "B = {2,4,6,7}\n",
    "C = {1,2,3}"
   ]
  },
  {
   "cell_type": "code",
   "execution_count": 33,
   "id": "6a04b5cc-0ee2-4f10-8600-43ae082e3eb5",
   "metadata": {},
   "outputs": [
    {
     "name": "stdout",
     "output_type": "stream",
     "text": [
      "Intersection de A et B = {2, 4}\n",
      "Union entre A et B = {1, 2, 3, 4, 5, 6, 7}\n",
      "Exclusion de B de A = {1, 3, 5}\n",
      "Diff sym. A et B = {1, 3, 5, 6, 7}\n"
     ]
    }
   ],
   "source": [
    "#Intersection\n",
    "print(\"Intersection de A et B =\", A&B)\n",
    "\n",
    "#Union\n",
    "print(\"Union entre A et B =\", A|B)\n",
    "\n",
    "#Exclusion\n",
    "print(\"Exclusion de B de A =\", A-B)\n",
    "\n",
    "#Différence symétrique\n",
    "print(\"Diff sym. A et B =\", A^B)"
   ]
  },
  {
   "cell_type": "code",
   "execution_count": 34,
   "id": "62436515-5142-463e-b939-b6f390549fb4",
   "metadata": {},
   "outputs": [
    {
     "name": "stdout",
     "output_type": "stream",
     "text": [
      "False\n",
      "C est inclus dans A\n"
     ]
    }
   ],
   "source": [
    "print(\"B est inclus strict dans A\") if A>B else print(False)\n",
    "print(\"C est inclus dans A\") if A>=C else print(False)"
   ]
  },
  {
   "cell_type": "markdown",
   "id": "5c983f45-d7fc-4924-911b-13937c110a36",
   "metadata": {},
   "source": [
    "### Dictionary"
   ]
  },
  {
   "cell_type": "code",
   "execution_count": 35,
   "id": "ffa8eb17-92e9-4cc9-8eea-418ca6bcf4a0",
   "metadata": {},
   "outputs": [
    {
     "name": "stdout",
     "output_type": "stream",
     "text": [
      "{'key1': 'value1', 'answer': 42}\n",
      "{'key1': 'value1', 'answer': 42}\n",
      "{'key1': 'value1', 'answer': 42}\n"
     ]
    },
    {
     "data": {
      "text/plain": [
       "42"
      ]
     },
     "execution_count": 35,
     "metadata": {},
     "output_type": "execute_result"
    }
   ],
   "source": [
    "# 1ère façon de créer un dictionnaire\n",
    "dic = {\"key1\": \"value1\", \"answer\": 42}\n",
    "# 2ème façon de créer un dictionnaire\n",
    "dic2 = dict(key1=\"value1\", answer=42)\n",
    "# 3ème façon de créer un dictionnaire\n",
    "dic3 = dict([(\"key1\",\"value1\"), (\"answer\",42)])\n",
    "print(dic)\n",
    "print(dic2)\n",
    "print(dic3)\n",
    "\n",
    "dic[\"answer\"]"
   ]
  },
  {
   "cell_type": "code",
   "execution_count": 36,
   "id": "2061def3-6e50-4190-93a8-7b9634505493",
   "metadata": {},
   "outputs": [],
   "source": [
    "dic['new'] = [1,2,3]"
   ]
  },
  {
   "cell_type": "code",
   "execution_count": 37,
   "id": "06693be1-378c-4bb0-9726-800dc7dce1b7",
   "metadata": {},
   "outputs": [
    {
     "data": {
      "text/plain": [
       "dict_keys(['key1', 'answer', 'new'])"
      ]
     },
     "execution_count": 37,
     "metadata": {},
     "output_type": "execute_result"
    }
   ],
   "source": [
    "dic.keys()"
   ]
  },
  {
   "cell_type": "code",
   "execution_count": 38,
   "id": "f708db44-838b-4098-b2cf-bf2335c77fa2",
   "metadata": {},
   "outputs": [
    {
     "data": {
      "text/plain": [
       "dict_items([('key1', 'value1'), ('answer', 42), ('new', [1, 2, 3])])"
      ]
     },
     "execution_count": 38,
     "metadata": {},
     "output_type": "execute_result"
    }
   ],
   "source": [
    "dic.items()"
   ]
  },
  {
   "cell_type": "code",
   "execution_count": 39,
   "id": "a14b0c50-05d9-4523-8166-f5482fbb6106",
   "metadata": {},
   "outputs": [
    {
     "data": {
      "text/plain": [
       "dict_values(['value1', 42, [1, 2, 3]])"
      ]
     },
     "execution_count": 39,
     "metadata": {},
     "output_type": "execute_result"
    }
   ],
   "source": [
    "dic.values()"
   ]
  },
  {
   "cell_type": "code",
   "execution_count": 40,
   "id": "be4c3770-e660-431f-8926-300c6f98d287",
   "metadata": {},
   "outputs": [
    {
     "name": "stdout",
     "output_type": "stream",
     "text": [
      "('key1', 'value1')\n"
     ]
    }
   ],
   "source": [
    "a,b,c = dic.items()\n",
    "print(a)"
   ]
  },
  {
   "cell_type": "markdown",
   "id": "b137a9a6-60c8-4c00-9a6f-596183340d27",
   "metadata": {
    "tags": []
   },
   "source": [
    "## Programmation Orientée Objet"
   ]
  },
  {
   "cell_type": "code",
   "execution_count": 41,
   "id": "66c1b630-ddd5-4d6b-bb66-6b2dfa496cf7",
   "metadata": {},
   "outputs": [],
   "source": [
    "\"\"\"\n",
    "Exemple de classe en Python\n",
    "\"\"\"\n",
    "class Moteur:\n",
    "    \n",
    "    # Constructeur\n",
    "    def __init__(self, esn, panne=False):\n",
    "        self.esn = esn\n",
    "        self.panne = panne\n",
    "    \n",
    "    # Méthodes\n",
    "    def dire_bonjour(self):\n",
    "        print('Bonjour, mon numéro de série est ' + self.esn)\n",
    "    \n",
    "    def fonctionne(self):\n",
    "        return not self.panne \n",
    "    "
   ]
  },
  {
   "cell_type": "code",
   "execution_count": 42,
   "id": "20290517-9ab3-4bad-ab86-5bc72280cff1",
   "metadata": {},
   "outputs": [
    {
     "name": "stdout",
     "output_type": "stream",
     "text": [
      "Bonjour, mon numéro de série est 420912\n",
      "True\n",
      "False\n",
      "\n",
      "\n",
      "Bonjour, mon numéro de série est 420913\n",
      "False\n"
     ]
    }
   ],
   "source": [
    "mot1 = Moteur('420912')\n",
    "mot2 = Moteur(panne=True, esn='420913')\n",
    "\n",
    "mot1.dire_bonjour()\n",
    "print(mot1.fonctionne())\n",
    "\n",
    "mot1.panne = True\n",
    "print(mot1.fonctionne())\n",
    "\n",
    "print('\\n')\n",
    "mot2.dire_bonjour()\n",
    "print(mot2.fonctionne())"
   ]
  },
  {
   "cell_type": "markdown",
   "id": "7425fc54-8c5f-49aa-a983-e0919eca56df",
   "metadata": {},
   "source": [
    "### Méthode récurcive vs Méthode itérative"
   ]
  },
  {
   "cell_type": "code",
   "execution_count": 43,
   "id": "77888025-c0af-492e-b2e9-c23b00642b28",
   "metadata": {},
   "outputs": [
    {
     "name": "stdout",
     "output_type": "stream",
     "text": [
      "120\n",
      "120\n"
     ]
    }
   ],
   "source": [
    "# Méthode récursive\n",
    "def fact1(n):\n",
    "    if n == 0:\n",
    "        return 1\n",
    "    else:\n",
    "        return n*fact1(n-1)\n",
    "\n",
    "# Méthode itérative\n",
    "def fact2(n):\n",
    "    s=1\n",
    "    for i in range(1,n+1):\n",
    "        s*=i\n",
    "    return s\n",
    "\n",
    "print(fact1(5))\n",
    "print(fact2(5))"
   ]
  },
  {
   "cell_type": "code",
   "execution_count": 44,
   "id": "af75da2d-f5d1-4841-add1-7714fb9d2084",
   "metadata": {},
   "outputs": [
    {
     "name": "stdout",
     "output_type": "stream",
     "text": [
      "1\n"
     ]
    }
   ],
   "source": [
    "\"\"\"\n",
    "App.1 : Ecrire une fonction qui retourne le plus grand commun diviseur (pgcd) entre deux nombres a et b.\n",
    "\"\"\"\n",
    "\n",
    "def pgcd(a,b):\n",
    "    while(a%b!=0):\n",
    "        m=a%b\n",
    "        a=b\n",
    "        b=m\n",
    "    return b \n",
    "print(pgcd(31,6))\n"
   ]
  },
  {
   "cell_type": "code",
   "execution_count": 45,
   "id": "b0a390d4-c04d-4398-b9cd-2f85b836e263",
   "metadata": {},
   "outputs": [
    {
     "name": "stdout",
     "output_type": "stream",
     "text": [
      "pgcd1(a,b) =  5\n",
      "pgcd2(a,b) =  5\n"
     ]
    }
   ],
   "source": [
    "\"\"\"\n",
    "App.1 : Correction\n",
    "\"\"\"\n",
    "\n",
    "#Méthode itérative\n",
    "def pgcd1(a,b):\n",
    "    while (a%b) != 0:\n",
    "        s = a%b\n",
    "        a = b\n",
    "        b = s\n",
    "    return b\n",
    "\n",
    "\n",
    "#Méthode récurcive\n",
    "def pgcd2(a,b):\n",
    "    if a==b : return a \n",
    "    if a<b : a,b = b,a\n",
    "    return pgcd(a-b,b)\n",
    "\n",
    "a = 230\n",
    "b = 25\n",
    "\n",
    "print(\"pgcd1(a,b) = \", pgcd1(a,b))\n",
    "print(\"pgcd2(a,b) = \", pgcd2(a,b))"
   ]
  },
  {
   "cell_type": "markdown",
   "id": "335ef98a-5f95-453d-a6b7-2d199360e2cd",
   "metadata": {},
   "source": [
    "## Libraries"
   ]
  },
  {
   "cell_type": "markdown",
   "id": "34dce20e-1f94-45cb-93cc-db98c522919a",
   "metadata": {},
   "source": [
    "> pip install numpy pandas\n",
    "\n",
    "> pip3 install -U numpy pandas"
   ]
  },
  {
   "cell_type": "markdown",
   "id": "ee32799a-2dbd-479c-8a99-162522f1cbac",
   "metadata": {},
   "source": [
    "### Math"
   ]
  },
  {
   "cell_type": "code",
   "execution_count": 46,
   "id": "27fe5f91-bd00-409b-9fbe-fb751723ad02",
   "metadata": {},
   "outputs": [],
   "source": [
    "import math"
   ]
  },
  {
   "cell_type": "code",
   "execution_count": 47,
   "id": "641ce75e-83bb-4c75-901a-f46a85448d8e",
   "metadata": {},
   "outputs": [
    {
     "name": "stdout",
     "output_type": "stream",
     "text": [
      "sqrt(x) = 2.0\n",
      "cos(x) = -0.6536436208636119\n",
      "sin(x) = -0.7568024953079283\n",
      "factorial(x) = 24\n"
     ]
    }
   ],
   "source": [
    "x = 4\n",
    "\n",
    "print(\"sqrt(x) =\", math.sqrt(x))\n",
    "print(\"cos(x) =\", math.cos(x))\n",
    "print(\"sin(x) =\", math.sin(x))\n",
    "print(\"factorial(x) =\", math.factorial(x))"
   ]
  },
  {
   "cell_type": "markdown",
   "id": "45942361-083f-4c23-a100-d7f3a0877423",
   "metadata": {
    "tags": []
   },
   "source": [
    "### Numpy"
   ]
  },
  {
   "cell_type": "code",
   "execution_count": 48,
   "id": "aa7544d7-61c4-4aae-a6a5-496a157941b4",
   "metadata": {},
   "outputs": [],
   "source": [
    "import numpy as np"
   ]
  },
  {
   "cell_type": "code",
   "execution_count": 49,
   "id": "3eb41dca-dcfc-45e5-8c39-ce317121a912",
   "metadata": {},
   "outputs": [
    {
     "data": {
      "text/plain": [
       "array([[0., 0., 0., 0.],\n",
       "       [0., 0., 0., 0.],\n",
       "       [0., 0., 0., 0.]])"
      ]
     },
     "execution_count": 49,
     "metadata": {},
     "output_type": "execute_result"
    }
   ],
   "source": [
    "# Création d'un array à partir d'une liste\n",
    "v = np.array([1.0, 2.0, 3.0])\n",
    "# Création d'un array de taille (n,m) initialisé à 0\n",
    "z = np.zeros((3,4))\n",
    "z"
   ]
  },
  {
   "cell_type": "code",
   "execution_count": 50,
   "id": "ac7cdabb-3591-4b7a-b308-192a0624cc11",
   "metadata": {},
   "outputs": [
    {
     "name": "stdout",
     "output_type": "stream",
     "text": [
      "(3, 4)\n",
      "(3,)\n"
     ]
    }
   ],
   "source": [
    "# Taille d'un array\n",
    "print(z.shape)\n",
    "print(v.shape)"
   ]
  },
  {
   "cell_type": "code",
   "execution_count": 51,
   "id": "b4b8b030-ab39-40be-9c6c-d0ba78ddb971",
   "metadata": {},
   "outputs": [
    {
     "name": "stdout",
     "output_type": "stream",
     "text": [
      "A =  [[2. 1. 1.]\n",
      " [1. 2. 1.]\n",
      " [1. 1. 2.]]\n",
      "Av =  [7. 8. 9.]\n",
      "3*A =  [[6. 3. 3.]\n",
      " [3. 6. 3.]\n",
      " [3. 3. 6.]]\n",
      "A*v =  [[2. 2. 3.]\n",
      " [1. 4. 3.]\n",
      " [1. 2. 6.]]\n",
      "A + 1 =  [[3. 2. 2.]\n",
      " [2. 3. 2.]\n",
      " [2. 2. 3.]]\n",
      "A + v =  [[3. 3. 4.]\n",
      " [2. 4. 4.]\n",
      " [2. 3. 5.]]\n",
      "A^2 =  [[4. 1. 1.]\n",
      " [1. 4. 1.]\n",
      " [1. 1. 4.]]\n"
     ]
    }
   ],
   "source": [
    "# Opérations courantes\n",
    "A = np.ones((3,3)) + np.eye(3)\n",
    "print('A = ', A)\n",
    "print('Av = ', np.dot(A,v))\n",
    "print('3*A = ', 3*A)\n",
    "print('A*v = ', A*v)\n",
    "print('A + 1 = ', A+1)\n",
    "print('A + v = ', A+v)\n",
    "print('A^2 = ', np.square(A))"
   ]
  },
  {
   "cell_type": "code",
   "execution_count": 52,
   "id": "22507d09-f213-40c4-9328-2acefcaac78e",
   "metadata": {},
   "outputs": [
    {
     "name": "stdout",
     "output_type": "stream",
     "text": [
      "[1 2 5 9]\n"
     ]
    }
   ],
   "source": [
    "B = np.array([5, 2, 9, 1])\n",
    "\n",
    "print(np.sort(B))"
   ]
  },
  {
   "cell_type": "markdown",
   "id": "0393ae0a-4841-49fa-a19d-fd79b16707c1",
   "metadata": {},
   "source": [
    "#### Compatif de performance : produit matriciel\n"
   ]
  },
  {
   "cell_type": "code",
   "execution_count": 53,
   "id": "2cc82968-354a-4065-b039-ff50d852ef38",
   "metadata": {},
   "outputs": [],
   "source": [
    "import random"
   ]
  },
  {
   "cell_type": "code",
   "execution_count": 54,
   "id": "555a2783-9d39-4fa0-820c-d05395a42863",
   "metadata": {},
   "outputs": [],
   "source": [
    "# Création d'une matrice aléatoire sous forme de liste de listes\n",
    "taille = 30\n",
    "A = [[random.random() for _ in range(taille)] for _ in range(taille)]"
   ]
  },
  {
   "cell_type": "code",
   "execution_count": 55,
   "id": "a9a0ed33-f5b1-4be9-afb0-2cd03a554b14",
   "metadata": {},
   "outputs": [
    {
     "name": "stdout",
     "output_type": "stream",
     "text": [
      "[[0.47308270724763224, 0.7268555995924146, 0.17978971026701263, 0.13655989980737215, 0.6255930598981863, 0.9349546276198274, 0.901046811877003, 0.36245311565602845, 0.5269387280575131, 0.4565102900625472, 0.15514095777832726, 0.7561488216548671, 0.24430179585896017, 0.775370903167984, 0.4591125023942869, 0.4631117411068292, 0.8567966861025755, 0.4949477399741934, 0.5490866568486948, 0.4540394189263005, 0.003406306215103738, 0.5088228115244731, 0.18628419530673646, 0.336024518063772, 0.2784752516535465, 0.18641385115798204, 0.0769559712525475, 0.37834410740783675, 0.43114544160219637, 0.9007194942474911], [0.45373749911292227, 0.6066335036521916, 0.22400934143309503, 0.9082169854673634, 0.4979913480693562, 0.1695028621942144, 0.6713217402890201, 0.6768189484708044, 0.04827117511949919, 0.37788609386887795, 0.9162308901546982, 0.9618153492481853, 0.16596323680024205, 0.9670203427676907, 0.9715171904236863, 0.20703393404728887, 0.4138895031682168, 0.9213963677722049, 0.11342278241092896, 0.5363416616199561, 0.7485832468798977, 0.32746816159224146, 0.3252463743046812, 0.2024000578216404, 0.8106038739997712, 0.6799972365876357, 0.895401472716883, 0.15176319115819625, 0.5938685343302883, 0.4267850366292242], [0.12528572190346265, 0.12440236891615852, 0.36197608492327993, 0.5571203560468913, 0.9837319211408191, 0.9806594174249723, 0.3310845866144546, 0.957426654642757, 0.2415942229113539, 0.6987526499890226, 0.44283039295098026, 0.4778473645320449, 0.12829936913764006, 0.6082722908578961, 0.2016378727419853, 0.1366087295563857, 0.12886517850258972, 0.660540006810345, 0.4252139821925519, 0.028765804082023005, 0.9894970461714906, 0.503317849145629, 0.4950361953962493, 0.960556626229247, 0.7424378608517358, 0.3573075361719211, 0.320673006221195, 0.7162695629018953, 0.11438079708591153, 0.2099404832815096], [0.31085649825636896, 0.054676349400627156, 0.2895226720519859, 0.23821859066376216, 0.7191621636852247, 0.3476992160220136, 0.9544438118783244, 0.8118807215257376, 0.6349801892491835, 0.17499469950764912, 0.9218805587959867, 0.9538769490882384, 0.01467338823785136, 0.1586755406292375, 0.20810780824369157, 0.385535299526953, 0.11264238450037667, 0.25910523567149313, 0.3983157278133749, 0.22408398057259094, 0.05831524094048546, 0.07263663895038708, 0.12133727147543072, 0.22189007887402767, 0.27557496947114113, 0.4078460330673789, 0.8327410280469488, 0.46280289200812186, 0.7477242755635956, 0.7683899894696823], [0.7328517374052346, 0.06292251800477422, 0.5626431603612138, 0.9741953196529661, 0.9192116192857938, 0.5169510331130828, 0.8042207401278353, 0.9561678489547539, 0.7472717445520776, 0.8745375686036465, 0.9531062819661511, 0.4785488460519076, 0.6954760731368673, 0.9363250405573103, 0.26611911807985833, 0.5580859943876266, 0.5531938290769507, 0.879265996526339, 0.8104091868884384, 0.6752867167044774, 0.4474700132756054, 0.18608991105850103, 0.22493387288913913, 0.8726723227830079, 0.3016693292837507, 0.5520116554838834, 0.3209763795115276, 0.34083713804173366, 0.022287758652466794, 0.8728192753084446], [0.5103287538808982, 0.3709535871084202, 0.21679392274577325, 0.41250050492217427, 0.3313236140181566, 0.0975733313831777, 0.9154092088854928, 0.2145921731844772, 0.09507872462974387, 0.910251237218979, 0.4141890701096631, 0.31723378880352027, 0.7591483433224704, 0.6191858712024583, 0.24397968630038747, 0.4781648112997572, 0.5363812824741806, 0.024668544231315925, 0.49194225389354784, 0.823274985807974, 0.5896682598639829, 0.8367886944257864, 0.28104320688132345, 0.4464435123596502, 0.3530924705175639, 0.9997148480372201, 0.06005099499555289, 0.17493595870241863, 0.4136080261039511, 0.11985954754041672], [0.44939336105397987, 0.6423419244535482, 0.06474944208342237, 0.0831725946301517, 0.3523112879667266, 0.2513461182996962, 0.5506826822765184, 0.10711280869451056, 0.32443484404301315, 0.15115398023252513, 0.7336554674374761, 0.5430877244495841, 0.6652700199036166, 0.018012368090674302, 0.8376555563688908, 0.2461884333076081, 0.8715372245125068, 0.37331140849616296, 0.11365564349459878, 0.22687287833188052, 0.7071912572124165, 0.6192165182738827, 0.5405763650271684, 0.7803617060789282, 0.6242467517911631, 0.589328236722536, 0.8668636156086666, 0.6884870397635814, 0.7022774645471649, 0.9962291018793266], [0.4831714612166478, 0.8645004675742183, 0.3118839673671512, 0.2340248453094378, 0.3337899093485375, 0.040031616186039454, 0.678877199912907, 0.9990046909081415, 0.35647638378340385, 0.1932442307047061, 0.14238426044479013, 0.10397165380439755, 0.55267389417816, 0.8198643631717774, 0.26394975803673104, 0.4416686171027747, 0.8921919578556958, 0.9732668469936486, 0.8377840505768861, 0.27116704590884255, 0.4559186742988839, 0.1900588604653215, 0.32404399470232936, 0.5683973831822527, 0.5367149666153693, 0.05819397189720976, 0.9862595561706415, 0.32477391428729807, 0.456971591572391, 0.25912389973215433], [0.5866199276397198, 0.8598341888048557, 0.642206319911745, 0.46956206716365767, 0.19098499957750636, 0.08276592648511227, 0.49918345048386836, 0.460107259985887, 0.5033053221957355, 0.2046602952697919, 0.7316820005224937, 0.054946572974288066, 0.06679064670811319, 0.4176033882145461, 0.9094803316889809, 0.5055957343103794, 0.38676191532372206, 0.12147788716050434, 0.3181396387807587, 0.900882788904132, 0.14034941717850824, 0.19652641118493686, 0.36453831501649403, 0.07790123492629697, 0.6008778433700211, 0.09164713653959866, 0.24377769598401156, 0.813737120258571, 0.14139927947537667, 0.6852227052679513], [0.2965349550183217, 0.6568226134534386, 0.49447585637772384, 0.005226224193538576, 0.201797851382293, 0.025239673560280673, 0.41448823036875215, 0.9055058276143937, 0.8435621057457663, 0.249706431769389, 0.1320700061910728, 0.6899756883968612, 0.061796777618881915, 0.199476154777256, 0.16954039616510874, 0.961572739872421, 0.29180505120801825, 0.8614619408949201, 0.007321916809322704, 0.7282879892196772, 0.8413056873075667, 0.9537451252011767, 0.2125633176763796, 0.7909617729816063, 0.32646982236921895, 0.014534485536743746, 0.09153803474263611, 0.9412735555450406, 0.6465759616580994, 0.04112776899255888], [0.5241731130295502, 0.18773332221057237, 0.014609027131362806, 0.05372331306211742, 0.8364935211350415, 0.7832159299515389, 0.9416227855337169, 0.8002584797751037, 0.21941667722538805, 0.35590737705193376, 0.0962709117064583, 0.9301073935670656, 0.5462448754664918, 0.4332955255656218, 0.4090500740512799, 0.9230511559258101, 0.2523593609438114, 0.02154344295736632, 0.3882988224026298, 0.9975724353379173, 0.5969419748047798, 0.9831771209411235, 0.30731044141808284, 0.06370568144024902, 0.8111918587640413, 0.6826572099071889, 0.30459418801842664, 0.2576560779032562, 0.42115157490173394, 0.6421750761204076], [0.4327611172808282, 0.10488850225845459, 0.06590374780747932, 0.9143153886555979, 0.2239680369236634, 0.42069189889830927, 0.1386739480278878, 0.2995617904631851, 0.7032077852072066, 0.39783743620715883, 0.46669866706439067, 0.15645808357651447, 0.7567402548708418, 0.6574046899384139, 0.788940248842666, 0.7060579182406113, 0.12183906670224931, 0.8389778578269453, 0.7086321980869883, 0.4885743954346242, 0.009725000543523432, 0.43903838906335924, 0.6349520106665422, 0.0024863399550736354, 0.4659822340558377, 0.9685339164210114, 0.6053040539112423, 0.7570371955528493, 0.32894483151595555, 0.22669204787868114], [0.2376275646721756, 0.270632345231378, 0.9231533441135517, 0.22225405190646041, 0.5954125975867232, 0.29562939323767, 0.64530659822737, 0.9551229717894519, 0.2930526671901277, 0.5613894004882203, 0.837843469023091, 0.31877081278726194, 0.3516375180779434, 0.7124719483915202, 0.7123751191356472, 0.6812212778196081, 0.7504839618309874, 0.054569295868065804, 0.7019676831960259, 0.9593690478390186, 0.8623002905827362, 0.14910106771430942, 0.6720664923756453, 0.26273879233084174, 0.30855360665055975, 0.6581205277423755, 0.22647260312547168, 0.18259175290479435, 0.9908142921162015, 0.45341910709633604], [0.8331337254586354, 0.9555156686195225, 0.5409192345838909, 0.1817668657749998, 0.8930900359889105, 0.33686747594486977, 0.7892072340213346, 0.9926191406158362, 0.7564619963227655, 0.08201209771815143, 0.2297694178958981, 0.3581453459082313, 0.6492053329760445, 0.4574522089296609, 0.06887406185014622, 0.2865026423769468, 0.48873922876827347, 0.8009980541274612, 0.2853911415700551, 0.3801885944389626, 0.548441735696937, 0.8087465873201033, 0.3102178929318624, 0.43979250029747285, 0.25812026658259335, 0.7991995258646739, 0.7798025074253073, 0.6451307821179506, 0.47862609067722794, 0.5088335823011274], [0.10998606042551662, 0.6042282933006343, 0.5588807200768304, 0.004842500969085228, 0.5220105700631149, 0.15130820661057331, 0.813902707160528, 0.5892829493402875, 0.6010485860114639, 0.16482095522317053, 0.11174471203958969, 0.16657768475661594, 0.7400339996214546, 0.9218370502896953, 0.10405360844418066, 0.6637218043430517, 0.5256139908824017, 0.40183202827824993, 0.13667495638293525, 0.9721713126987493, 0.07577747694297232, 0.9387865124252175, 0.27217165321789727, 0.11025737091528465, 0.6157782773479414, 0.8665921392441492, 0.25609466146797555, 0.08086776127385009, 0.5679628408506961, 0.43237907791713914], [0.9495709816385488, 0.563055635420299, 0.3650784761688526, 0.16155848989558508, 0.10393555464822246, 0.2681105347045719, 0.3651074751032368, 0.02155562816575385, 0.6330981703300903, 0.628561896581572, 0.41974539989029536, 0.8485166186815432, 0.06384956032434308, 0.5433702480889716, 0.9470618517027745, 0.14611743374235253, 0.5359610226676863, 0.2939474666949595, 0.9955779122906523, 0.9622196197029033, 0.3557530469890403, 0.8101252878857366, 0.9687766984913085, 0.6553193675669726, 0.3725085385188459, 0.8974216844869207, 0.2706985161555632, 0.1366492244470795, 0.14686061283296215, 0.18725697820353293], [0.01624851989800935, 0.28187270123106545, 0.44967806064384563, 0.7758050742502854, 0.13208788302411867, 0.2643118653210257, 0.2796493246967132, 0.8835732001332712, 0.7804250454923295, 0.6036211941734354, 0.519448146405226, 0.13801268756165108, 0.4547538997661995, 0.16565666617584907, 0.8734488846112576, 0.9496362227970627, 0.6997107585746377, 0.5098097345077283, 0.12008554814751515, 0.2623257332538018, 0.07693720117643166, 0.2974643759160188, 0.532799833988927, 0.09274465663212172, 0.04115698187677119, 0.44766260824831294, 0.5508974375866026, 0.949300722839145, 0.8115979222143219, 0.4952614232675958], [0.7640994194730596, 0.06770073933855536, 0.07559654928615067, 0.3016565066677307, 0.2499892593764521, 0.6565924523729025, 0.3970739673110889, 0.2191883147739413, 0.7716738471917546, 0.3347146163623339, 0.21504385910438817, 0.0743706567618092, 0.45983311713236963, 0.8007137746677703, 0.46401763484891456, 0.9758683975778608, 0.1870271863383125, 0.8221072951572866, 0.646146317871293, 0.09538653270073105, 0.27204813432130637, 0.38126314701200337, 0.4957130190445955, 0.5527988077833579, 0.5978636641017913, 0.41593730845354426, 0.39540914050351805, 0.6785068112797291, 0.6703362921027752, 0.46117020455773683], [0.8094107264314667, 0.7706135473737782, 0.06570941520298268, 0.2744347493973991, 0.48131752988531185, 0.32207301251649767, 0.2602948115803645, 0.4562335374247778, 0.3700419645612607, 0.37167644382001375, 0.5996970483419171, 0.5141765232252051, 0.4871570748594225, 0.536074602742546, 0.16515359288393539, 0.6218559517127353, 0.44850008518723994, 0.6784227526806182, 0.21303305403016692, 0.03987600011292136, 0.3733656203146295, 0.7253457965674444, 0.5532770170054404, 0.9336188854316299, 0.5729662076235753, 0.638517834169365, 0.5236087342898978, 0.3748422145979198, 0.16180725696825815, 0.967073043704195], [0.20196515710135854, 0.3779357789673823, 0.44027707910114033, 0.3598523337004823, 0.6544897962172112, 0.9531947983015902, 0.20522302108011758, 0.9235799733266592, 0.34279105990141356, 0.2613072079056259, 0.8087525388454335, 0.847029393504744, 0.9202859665628074, 0.9554527164224504, 0.9960149655014918, 0.22129024767148386, 0.03722810134322441, 0.6775233034270994, 0.3476199423685644, 0.8466492093740879, 0.34901837511271805, 0.181110623174078, 0.8975259786797715, 0.685134154161692, 0.7374456398785822, 0.8630227759066296, 0.9859729968003336, 0.04517318183563135, 0.8471782415397597, 0.611270760230415], [0.821951275029992, 0.7792833762574906, 0.26487787806462393, 0.47239739384528345, 0.2933123038153429, 0.5096348443331421, 0.07173839249730429, 0.8103645550810432, 0.19254537118948178, 0.2027063251552551, 0.8836435613682267, 0.004098909998791922, 0.2878168076782014, 0.8165427672260774, 0.2291352835926822, 0.9362367107683219, 0.8240435642549409, 0.6970267306883706, 0.7798010486176015, 0.8706320782966595, 0.8774450854675911, 0.1326621097384928, 0.0817539867345245, 0.8113025073147648, 0.30961418861117973, 0.9215469606191251, 0.21640895354955925, 0.12979554322024744, 0.8113796241699504, 0.8534065299045147], [0.3525457307666331, 0.600518628263124, 0.17776509544300967, 0.16720583144079304, 0.019824560377639133, 0.6328796662883655, 0.8620153620359061, 0.30395902526227203, 0.2794669791818486, 0.5558904673501304, 0.248533019796638, 0.6158102377386359, 0.5957480432287189, 0.901480423718339, 0.01962655834007132, 0.6082999510010946, 0.5990339023221513, 0.42486963437335534, 0.6285744995420363, 0.7214966559705133, 0.20899714140279546, 0.6507967527412959, 0.4852197043210249, 0.5308401178114767, 0.25082910780087464, 0.6503468574210703, 0.2636350138019248, 0.8319881452671969, 0.682076958272596, 0.21725924981686118], [0.12457100168450508, 0.5204461609516235, 0.9558087669723841, 0.2358911223619633, 0.5861689830603745, 0.937674015612888, 0.2884780994484871, 0.8462564126792578, 0.361250450387532, 0.28282773690303953, 0.6240357322712564, 0.7605764049402225, 0.8906441854798842, 0.5567284889782735, 0.012605304084827629, 0.945869805467999, 0.4825317002526377, 0.8862151787053629, 0.8230236124969961, 0.20798220034432535, 0.05823582788548343, 0.8567125300731847, 0.4811877210168527, 0.645861206739326, 0.2520345660465033, 0.1350264518026958, 0.001652331674819929, 0.8818340875167392, 0.7403129450202701, 0.10645863157512803], [0.5500409748155998, 0.9488751784723001, 0.3483502704732735, 0.8344070995093149, 0.33857643646899205, 0.6589150769711803, 0.595324504975789, 0.26058292408408323, 0.48334210474631834, 0.594980364695997, 0.6927342781774429, 0.8017764493590901, 0.19814427470387141, 0.9584269727502451, 0.8894808076099326, 0.04079605119364649, 0.09933501959799884, 0.9323153542983678, 0.7097176610542653, 0.5954406972802169, 0.3405045564042375, 0.8171721876785751, 0.6812051632261804, 0.8391443589971387, 0.90071545167785, 0.25296161460991073, 0.026938735709317596, 0.356909177022821, 0.8042201017377182, 0.9360725657802756], [0.39104718818441897, 0.2856746544808877, 0.6979145493388368, 0.4063725519607867, 0.9447250164492949, 0.30411337780538283, 0.9278926632430324, 0.4576458241743745, 0.4715191496408393, 0.027659407645307277, 0.40130592878713256, 0.3046620706241824, 0.9640199293085144, 0.18463288923576326, 0.6291202346337593, 0.6498991729166181, 0.23079095917158232, 0.586689529400644, 0.8981783962632356, 0.6162459159002219, 0.2620093565087074, 0.09029693966853358, 0.718276428511115, 0.5891733592167503, 0.36564656345727986, 0.25980830266222943, 0.9056176588274132, 0.1729678260553208, 0.29961455427020267, 0.13029591491759518], [0.5818564788640587, 0.6385151266380837, 0.8515609391903435, 0.7149633440774371, 0.2313956307744205, 0.43789785256265146, 0.19602521813746698, 0.11364189636652977, 0.3977629766589248, 0.3683253167978445, 0.5055520709059156, 0.0848558980830294, 0.4328562588029832, 0.9576822610185293, 0.07257598254761244, 0.09324773633838856, 0.4324088959260757, 0.4779924189361082, 0.12959233603183729, 0.4850299164270615, 0.7770826308232467, 0.5014795805053373, 0.5460757457472827, 0.9493661010106222, 0.9358174132071296, 0.6942078984594666, 0.15588944956182482, 0.20399829854604357, 0.6136001230366437, 0.372177726653786], [0.8924497794915872, 0.48459799457029895, 0.25958702161859937, 0.1873656835388603, 0.09572112083165374, 0.6566942272657427, 0.48130348938281475, 0.49632163407816543, 0.13603030471138466, 0.5862657387017123, 0.13817852729417868, 0.14497568085511936, 0.34921748849596745, 0.6354323136443053, 0.4233056633278366, 0.28327550239233035, 0.3776232724447466, 0.801911340908298, 0.13476094472182176, 0.38615544457509765, 0.7963991763598258, 0.16909942209887285, 0.9858360850934829, 0.9360521929559915, 0.3591572843537062, 0.06952214809758439, 0.8450816193333259, 0.10705358534894571, 0.986242576093919, 0.6993099964665908], [0.5701663812714288, 0.9115073021633234, 0.6570975655017193, 0.5054564723823866, 0.42411371060449365, 0.35665310341238854, 0.7065931080037824, 0.6683012054274805, 0.8116034931824325, 0.7845840860283334, 0.05421094913905089, 0.8279424412198164, 0.1751120623523439, 0.12806853883646185, 0.6431449243370798, 0.7660938560037585, 0.7086153832088421, 0.5541158484519303, 0.4407990452968945, 0.7982268222622303, 0.31893875711527153, 0.2441570330497531, 0.7798429406856887, 0.5788387115688567, 0.2488486557196008, 0.9019151961190618, 0.8996989756385152, 0.8457287846007235, 0.413381229220388, 0.6684353896521233], [0.49661159726009985, 0.11689430177972782, 0.8247252636894435, 0.07961649222047462, 0.41031415947900374, 0.915989540474403, 0.8940367750610146, 0.8356280258473447, 0.6534857079144036, 0.20884318408453806, 0.31016914503872883, 0.9417625002899274, 0.15367323101818242, 0.9108045983430905, 0.8804755463209012, 0.11411811525383309, 0.16106255607966458, 0.27873610830527973, 0.11507867344282685, 0.7520607949925161, 0.4224816556317602, 0.2773619437039935, 0.5976492046191338, 0.8944227606020261, 0.046231145212676794, 0.7757172172559064, 0.32386647436679683, 0.22570098741198952, 0.7862576813788985, 0.5660918931871575], [0.9204145849783969, 0.0850539310098739, 0.8895675853961791, 0.6921652231571139, 0.15634090880578566, 0.7849121827455416, 0.20214057129281215, 0.22579089721053158, 0.5312789250824124, 0.9917303621780437, 0.0777864279076067, 0.7707764869310747, 0.6014517506654474, 0.18094504183449645, 0.05010195950705609, 0.3456296918293126, 0.7772208527960498, 0.21619274154878676, 0.5691516557805095, 0.02143502870157865, 0.037663433729459794, 0.35059626717571113, 0.2074505065718174, 0.03397015030790351, 0.4410752094193586, 0.34571946414864874, 0.23441786577256762, 0.16494335618623956, 0.47907813745708494, 0.4462822685532659]]\n"
     ]
    }
   ],
   "source": [
    "print(A)"
   ]
  },
  {
   "cell_type": "code",
   "execution_count": 56,
   "id": "d0a7c16c-d2ba-4ece-ba30-39a90fcf3539",
   "metadata": {},
   "outputs": [
    {
     "name": "stdout",
     "output_type": "stream",
     "text": [
      "(30, 30)\n"
     ]
    }
   ],
   "source": [
    "\"\"\"\n",
    "EXERCICE - Afficher un tuple contenant les dimensions de la matrice A\n",
    "\"\"\"\n",
    "A=np.array(A)\n",
    "print(A.shape)\n"
   ]
  },
  {
   "cell_type": "markdown",
   "id": "98f2a7f1-113f-4757-8706-166b163d65ce",
   "metadata": {},
   "source": [
    "$$ (AB)_{ij} = \\sum_k A_{ik} B_{kj} $$"
   ]
  },
  {
   "cell_type": "code",
   "execution_count": 57,
   "id": "8a80f0bb-5f31-4471-ae47-3886decff6ac",
   "metadata": {},
   "outputs": [],
   "source": [
    "\"\"\"\n",
    "EXERCICE - Implémenter le produit matriciel de 2 matrices sous forme de listes de listes python\n",
    "\"\"\"\n",
    "def produit(A,B):\n",
    "    A=np.array(A)\n",
    "    B=np.array(B)\n",
    "    l_A=A.shape[0]\n",
    "    c_A=A.shape[1]\n",
    "    c_B=B.shape[1]\n",
    "    C=np.zeros((l_A,c_B))\n",
    "    for i in range(l_A):\n",
    "        for k in range(c_A):\n",
    "            for j in range(c_B):\n",
    "                C[i][j]+=A[i][k]*B[k][j]\n",
    "    return C.tolist()"
   ]
  },
  {
   "cell_type": "code",
   "execution_count": 58,
   "id": "b4557582-a050-42a4-8001-5225e5a30d7f",
   "metadata": {},
   "outputs": [],
   "source": [
    "# Vérification\n",
    "assert(produit([[1, 2], [3, 4]], [[1, 2], [3, 4]]) == [[7, 10], [15, 22]])"
   ]
  },
  {
   "cell_type": "code",
   "execution_count": 59,
   "id": "a04cfaef-513c-41a4-ae6e-8a9aee4a6cca",
   "metadata": {},
   "outputs": [
    {
     "data": {
      "text/plain": [
       "[[7.044940042324607,\n",
       "  6.600965691599459,\n",
       "  5.589046515004929,\n",
       "  5.883083489944305,\n",
       "  5.698048357821686,\n",
       "  5.801345361744786,\n",
       "  7.752577515574566,\n",
       "  7.43517357110795,\n",
       "  6.901056181528994,\n",
       "  6.333292929621215,\n",
       "  6.250660763036651,\n",
       "  6.899324864372041,\n",
       "  6.774291946035457,\n",
       "  7.794458635864895,\n",
       "  6.885829385750443,\n",
       "  6.880045478449314,\n",
       "  6.818740603030117,\n",
       "  7.4298179914873455,\n",
       "  5.9551657340649555,\n",
       "  7.112282109683516,\n",
       "  5.173230662629545,\n",
       "  6.947151026163762,\n",
       "  6.329506583653576,\n",
       "  6.455019187566453,\n",
       "  6.116700194211461,\n",
       "  7.991893366364231,\n",
       "  6.416804568928243,\n",
       "  6.4560449255842585,\n",
       "  7.042293432257371,\n",
       "  6.937478925675955],\n",
       " [8.14537578492368,\n",
       "  7.075185921401695,\n",
       "  6.206082971452281,\n",
       "  5.807346921964452,\n",
       "  7.553734808145192,\n",
       "  7.600033585712796,\n",
       "  9.267709540329442,\n",
       "  9.604160283367845,\n",
       "  7.6854458145536135,\n",
       "  5.600529650401735,\n",
       "  6.8948131595909485,\n",
       "  7.3307860893532455,\n",
       "  7.886591846527339,\n",
       "  9.719082001877315,\n",
       "  6.95457160273974,\n",
       "  8.390209417477896,\n",
       "  6.89945462353949,\n",
       "  9.318374227886576,\n",
       "  7.063675068671622,\n",
       "  8.409471824916729,\n",
       "  6.632575468248587,\n",
       "  7.293949555492796,\n",
       "  7.245482507613723,\n",
       "  7.962847120222461,\n",
       "  7.46148192327143,\n",
       "  8.895395904121996,\n",
       "  8.290449351159168,\n",
       "  6.367148430871248,\n",
       "  9.223358398344585,\n",
       "  8.207275154259152],\n",
       " [7.524437588797614,\n",
       "  7.264477479555139,\n",
       "  5.542758185764319,\n",
       "  5.848709982168215,\n",
       "  6.48571166601091,\n",
       "  5.978057491446249,\n",
       "  8.237933177454854,\n",
       "  8.425463301341773,\n",
       "  6.695167183315133,\n",
       "  6.045832821722915,\n",
       "  6.466703885008234,\n",
       "  6.306434606846606,\n",
       "  6.608149473224073,\n",
       "  8.401845974821391,\n",
       "  5.394211415931301,\n",
       "  7.844743531958709,\n",
       "  6.514047150916312,\n",
       "  8.654000681364543,\n",
       "  7.522636433058801,\n",
       "  7.603421286902849,\n",
       "  6.27217582505003,\n",
       "  6.740247616398268,\n",
       "  6.024786834023853,\n",
       "  8.241703172491716,\n",
       "  6.333171207555196,\n",
       "  7.35240347042226,\n",
       "  6.132406651727954,\n",
       "  6.369712084052953,\n",
       "  7.236154110743869,\n",
       "  7.085616143204377],\n",
       " [6.861814771000248,\n",
       "  5.3507692353276575,\n",
       "  4.740827776845064,\n",
       "  4.733594701692536,\n",
       "  5.142340146949502,\n",
       "  5.857483373006593,\n",
       "  6.853354622471619,\n",
       "  6.540628973226294,\n",
       "  5.763529313304572,\n",
       "  5.33948429824123,\n",
       "  4.928862092307419,\n",
       "  5.959554489332908,\n",
       "  5.7127004114524915,\n",
       "  6.787299624365198,\n",
       "  6.010024758446195,\n",
       "  5.749693146606675,\n",
       "  5.6301579246693185,\n",
       "  6.351266344268236,\n",
       "  5.474613778116143,\n",
       "  6.331460422459928,\n",
       "  4.962675733880621,\n",
       "  5.526345111398589,\n",
       "  6.001605005035801,\n",
       "  6.35513588285894,\n",
       "  5.820902312286214,\n",
       "  6.381887574380604,\n",
       "  6.04512889200874,\n",
       "  5.089188776562245,\n",
       "  5.935097985165361,\n",
       "  6.707086805054749],\n",
       " [9.567361214134841,\n",
       "  8.773368871127914,\n",
       "  7.188995989790702,\n",
       "  6.901698138634355,\n",
       "  8.454274450011075,\n",
       "  8.22631480521768,\n",
       "  10.040672130742044,\n",
       "  10.788822964378777,\n",
       "  9.009606795570393,\n",
       "  7.685921778113013,\n",
       "  8.407064827190048,\n",
       "  8.91242244038502,\n",
       "  7.9578361006769995,\n",
       "  10.171841259594817,\n",
       "  7.953184001364189,\n",
       "  9.343011073796221,\n",
       "  8.406135099064526,\n",
       "  9.919811051041863,\n",
       "  8.57694119207862,\n",
       "  9.211084286891356,\n",
       "  7.606557233049705,\n",
       "  8.771767821157937,\n",
       "  7.9857634453628465,\n",
       "  9.36621511322204,\n",
       "  8.7267511192534,\n",
       "  9.072848609751768,\n",
       "  8.081088564884658,\n",
       "  8.091731388770633,\n",
       "  9.40458793340613,\n",
       "  9.985050301276049],\n",
       " [6.071138946232004,\n",
       "  6.841775267252104,\n",
       "  5.634263441421871,\n",
       "  4.62236277298873,\n",
       "  5.737705641652286,\n",
       "  6.0112096329402,\n",
       "  7.027763146617309,\n",
       "  7.762030771728739,\n",
       "  6.116225310202315,\n",
       "  4.908824806850258,\n",
       "  6.598622861647218,\n",
       "  6.870406328196049,\n",
       "  5.881064473766217,\n",
       "  7.893630520716849,\n",
       "  6.118013299027593,\n",
       "  6.438512681894387,\n",
       "  6.21104455131638,\n",
       "  7.123938507778285,\n",
       "  5.473673478430172,\n",
       "  7.557081389483557,\n",
       "  6.2131839728099685,\n",
       "  6.580971616266764,\n",
       "  6.298112968284879,\n",
       "  7.536016482696483,\n",
       "  6.0919619089576,\n",
       "  7.495905932510405,\n",
       "  5.754273954109045,\n",
       "  5.7896217664496765,\n",
       "  7.77894255059518,\n",
       "  6.797189175532995],\n",
       " [7.329713397326236,\n",
       "  6.863706288975929,\n",
       "  6.799263958801819,\n",
       "  6.15124254485286,\n",
       "  5.821673640767345,\n",
       "  7.3897109178670295,\n",
       "  8.133091392873117,\n",
       "  8.062308142205909,\n",
       "  6.705287307639006,\n",
       "  6.672287545450423,\n",
       "  6.404899544652002,\n",
       "  7.267696237473077,\n",
       "  6.839234809119606,\n",
       "  8.878241905683383,\n",
       "  7.317932505687216,\n",
       "  7.854906340796859,\n",
       "  7.2076756693847965,\n",
       "  7.685539045946272,\n",
       "  6.641107674332297,\n",
       "  8.468528644408146,\n",
       "  5.849014727226759,\n",
       "  6.71549679734683,\n",
       "  7.310910235413473,\n",
       "  7.155645010186414,\n",
       "  6.662233055108508,\n",
       "  8.092283935303366,\n",
       "  6.2212706145639975,\n",
       "  5.8930611665874535,\n",
       "  8.912973208014527,\n",
       "  7.799995456670628],\n",
       " [7.49468811905144,\n",
       "  7.357787632553128,\n",
       "  5.421487904383773,\n",
       "  5.263715218502631,\n",
       "  6.037483859446569,\n",
       "  6.168497522714878,\n",
       "  7.698387820587831,\n",
       "  8.521195607894564,\n",
       "  6.510356921262532,\n",
       "  5.43820786274467,\n",
       "  6.411939196847061,\n",
       "  6.291740775515755,\n",
       "  6.040189281233725,\n",
       "  8.365962554656086,\n",
       "  7.138205477752026,\n",
       "  7.045676011106902,\n",
       "  6.882340622282038,\n",
       "  8.765042380300757,\n",
       "  6.254605408712385,\n",
       "  6.484032096494138,\n",
       "  6.152284444314671,\n",
       "  5.960677965393472,\n",
       "  7.044354194184736,\n",
       "  7.755801606823169,\n",
       "  6.258839045721746,\n",
       "  6.734611825325871,\n",
       "  7.528551976950968,\n",
       "  6.027601082387706,\n",
       "  8.039224175278042,\n",
       "  7.748906196390519],\n",
       " [5.712285235191121,\n",
       "  6.135066656868307,\n",
       "  5.25674890827497,\n",
       "  4.454427423602594,\n",
       "  6.230648605997779,\n",
       "  5.887301429468213,\n",
       "  7.201215155508372,\n",
       "  7.619102386719817,\n",
       "  5.651068150772807,\n",
       "  4.9619302384100825,\n",
       "  5.264411992880439,\n",
       "  7.0829217293150055,\n",
       "  5.638574327964605,\n",
       "  6.796277462619271,\n",
       "  6.051354616750981,\n",
       "  6.025256214701569,\n",
       "  5.727626161820482,\n",
       "  6.514659948508406,\n",
       "  5.239382907527267,\n",
       "  6.793169335945162,\n",
       "  4.696954985330747,\n",
       "  5.784783043533293,\n",
       "  5.816879764890955,\n",
       "  5.653805423011937,\n",
       "  6.07136668556236,\n",
       "  6.693081528939907,\n",
       "  6.576706578232787,\n",
       "  4.981366837346646,\n",
       "  6.216973802037868,\n",
       "  6.3432016549143615],\n",
       " [6.75450036906023,\n",
       "  7.179521435908473,\n",
       "  4.973467518565988,\n",
       "  5.341963462047785,\n",
       "  4.9084608427086485,\n",
       "  6.179454014113891,\n",
       "  6.927252629481702,\n",
       "  7.336763255997019,\n",
       "  6.3632430117283105,\n",
       "  5.278330086839608,\n",
       "  6.009532171673727,\n",
       "  6.551304271842514,\n",
       "  5.185725544907076,\n",
       "  8.558400304328739,\n",
       "  7.635943376469369,\n",
       "  6.530714603492353,\n",
       "  5.910128949657295,\n",
       "  7.962654809820213,\n",
       "  6.980994735963964,\n",
       "  7.828265833691197,\n",
       "  5.202685318691361,\n",
       "  5.637107886624248,\n",
       "  6.8791837318490145,\n",
       "  7.175703413534969,\n",
       "  6.130432185509878,\n",
       "  7.376133748361939,\n",
       "  6.371791915433672,\n",
       "  6.27167014895005,\n",
       "  6.929011921554507,\n",
       "  6.502165640426509],\n",
       " [7.654057769511347,\n",
       "  7.185042274449498,\n",
       "  6.335061302394343,\n",
       "  5.701252087654958,\n",
       "  6.136694286818049,\n",
       "  6.583861984782425,\n",
       "  8.070374835160452,\n",
       "  7.8890970541709935,\n",
       "  6.7688693648546865,\n",
       "  6.335484125598669,\n",
       "  6.967441280831881,\n",
       "  6.97977350929167,\n",
       "  7.990729111930647,\n",
       "  9.184566876769887,\n",
       "  6.981921606291493,\n",
       "  7.14994615313803,\n",
       "  7.584330680783701,\n",
       "  7.966127630043573,\n",
       "  7.669261270832503,\n",
       "  8.717460528374964,\n",
       "  6.048756474925385,\n",
       "  6.786833524410382,\n",
       "  7.445979580590541,\n",
       "  8.098765500846392,\n",
       "  6.465018621845781,\n",
       "  8.944066286388525,\n",
       "  7.015762723249824,\n",
       "  5.738490219833851,\n",
       "  7.741551141623054,\n",
       "  7.027152795117085],\n",
       " [7.106416278914776,\n",
       "  6.850326406836454,\n",
       "  6.473601960293707,\n",
       "  4.296963597553066,\n",
       "  6.187397642072816,\n",
       "  6.131451683118426,\n",
       "  8.088072474375943,\n",
       "  7.8125428964943975,\n",
       "  6.895423103576816,\n",
       "  5.409554442447418,\n",
       "  5.92249714215764,\n",
       "  6.693681867479534,\n",
       "  6.110346459678483,\n",
       "  8.103393603563326,\n",
       "  5.746092396979265,\n",
       "  7.306788686117751,\n",
       "  6.146941899508857,\n",
       "  6.907682047437875,\n",
       "  6.156860145056734,\n",
       "  7.817230397284762,\n",
       "  5.375594431614597,\n",
       "  6.670266049331667,\n",
       "  6.920631544944893,\n",
       "  7.157079717885937,\n",
       "  6.271874372286473,\n",
       "  7.58322988606148,\n",
       "  6.240343737511599,\n",
       "  5.895478817800558,\n",
       "  7.554574354117703,\n",
       "  6.839683613657937],\n",
       " [7.60113182162843,\n",
       "  7.670902601016398,\n",
       "  7.070456748260257,\n",
       "  5.692840008328833,\n",
       "  7.610318145379531,\n",
       "  7.822035086088879,\n",
       "  8.279274365812546,\n",
       "  10.519791082673796,\n",
       "  7.324378915567015,\n",
       "  6.1637425289501735,\n",
       "  7.378921009595935,\n",
       "  7.932957522199925,\n",
       "  7.4276333152682,\n",
       "  9.752718201498984,\n",
       "  7.147689520635217,\n",
       "  7.829593849647232,\n",
       "  7.36005121129581,\n",
       "  8.8279595500237,\n",
       "  6.97771624923764,\n",
       "  8.695223046505747,\n",
       "  7.321786499712476,\n",
       "  7.839031063804139,\n",
       "  7.443281498915629,\n",
       "  9.092039498380698,\n",
       "  7.38892219969116,\n",
       "  8.980623048454246,\n",
       "  7.172492035520895,\n",
       "  6.445861478107467,\n",
       "  8.489906163989202,\n",
       "  8.008088223768981],\n",
       " [8.451155717040217,\n",
       "  8.106016173622098,\n",
       "  6.63127729646385,\n",
       "  6.811847975650563,\n",
       "  6.707669574459505,\n",
       "  7.5856680585796905,\n",
       "  8.951009635263723,\n",
       "  9.149035347408851,\n",
       "  7.09588977629756,\n",
       "  7.091049604911427,\n",
       "  7.580494954408774,\n",
       "  7.361408578116743,\n",
       "  6.873566062680925,\n",
       "  10.28779226280146,\n",
       "  7.724883668498137,\n",
       "  7.61909645481737,\n",
       "  8.159385494958052,\n",
       "  9.26252853871168,\n",
       "  7.486470210631662,\n",
       "  8.219395633819964,\n",
       "  7.156222280495345,\n",
       "  6.496744744651854,\n",
       "  7.593381859102894,\n",
       "  8.76780013302995,\n",
       "  7.49346356582581,\n",
       "  8.160941018856297,\n",
       "  7.61871934927291,\n",
       "  6.97721470142121,\n",
       "  8.714877645300968,\n",
       "  8.649745921567433],\n",
       " [6.435732265230417,\n",
       "  6.366106244787164,\n",
       "  6.213827223269146,\n",
       "  5.102509554237914,\n",
       "  5.853803432133977,\n",
       "  6.159757360274371,\n",
       "  7.147028518700964,\n",
       "  7.710129530298407,\n",
       "  5.953030263677529,\n",
       "  5.23028360035977,\n",
       "  6.4449133392778135,\n",
       "  6.2637750436868025,\n",
       "  6.409540385323723,\n",
       "  8.226443646295346,\n",
       "  6.652321189057052,\n",
       "  5.621083924549628,\n",
       "  6.173209609508167,\n",
       "  7.117365822843494,\n",
       "  5.951858016492166,\n",
       "  7.137267980943636,\n",
       "  6.02901429051533,\n",
       "  5.716181281956867,\n",
       "  6.889418190768101,\n",
       "  7.30875140646534,\n",
       "  6.181927416342778,\n",
       "  7.307187053712185,\n",
       "  6.598443709652651,\n",
       "  5.635698257915284,\n",
       "  7.202910103806189,\n",
       "  6.140582205164093],\n",
       " [6.56919451097406,\n",
       "  7.921020753248941,\n",
       "  5.954416115964617,\n",
       "  5.627155677512236,\n",
       "  6.388090939683668,\n",
       "  7.329308472984496,\n",
       "  7.471284710549125,\n",
       "  8.104814680743289,\n",
       "  6.7575345611952455,\n",
       "  5.478629705431215,\n",
       "  6.7821998451143735,\n",
       "  7.221811481755195,\n",
       "  7.27152286057068,\n",
       "  9.442795939643618,\n",
       "  6.398636767752474,\n",
       "  7.699679020625129,\n",
       "  6.243405103537009,\n",
       "  8.65426810004041,\n",
       "  6.046622795892271,\n",
       "  7.851809555478964,\n",
       "  5.334333372363484,\n",
       "  8.079457236695236,\n",
       "  6.944520493857749,\n",
       "  7.595262457443134,\n",
       "  7.343228359295075,\n",
       "  7.921796180166981,\n",
       "  5.901408871819467,\n",
       "  6.827119034780801,\n",
       "  8.004962858722896,\n",
       "  7.430438151204525],\n",
       " [6.435026559696704,\n",
       "  6.448484181872368,\n",
       "  6.417392637746633,\n",
       "  4.414230621971252,\n",
       "  5.292703371433431,\n",
       "  5.732785596913171,\n",
       "  7.666698444467705,\n",
       "  8.27182470595441,\n",
       "  6.896194175697223,\n",
       "  5.680481848540201,\n",
       "  5.378489532461761,\n",
       "  6.892713996102318,\n",
       "  5.098267024061998,\n",
       "  7.474073900752832,\n",
       "  6.442668918204159,\n",
       "  6.984289812981836,\n",
       "  6.294903189641078,\n",
       "  6.695128454127897,\n",
       "  5.778195141462472,\n",
       "  7.686310767843791,\n",
       "  5.31551773890867,\n",
       "  6.286617269760461,\n",
       "  6.670525339245724,\n",
       "  6.640907457318472,\n",
       "  5.825138235410151,\n",
       "  7.039410545026845,\n",
       "  6.228859111077163,\n",
       "  6.185234394776673,\n",
       "  7.432359166782254,\n",
       "  6.254593309922216],\n",
       " [7.61920335111015,\n",
       "  7.206989963516866,\n",
       "  6.106598499612629,\n",
       "  4.434963538620717,\n",
       "  5.710009079654671,\n",
       "  6.15518849488142,\n",
       "  8.001137990464064,\n",
       "  6.925564546921732,\n",
       "  6.8715518062897685,\n",
       "  5.680589608934825,\n",
       "  5.571262570490916,\n",
       "  6.736218350337623,\n",
       "  5.718628487789604,\n",
       "  7.801535463103425,\n",
       "  6.309922953407534,\n",
       "  6.7746710424436465,\n",
       "  6.460330442855926,\n",
       "  6.864793569792261,\n",
       "  6.563785438704764,\n",
       "  7.594076133156886,\n",
       "  5.122247169584381,\n",
       "  6.870058481507202,\n",
       "  6.704129482987435,\n",
       "  7.330899013654639,\n",
       "  5.755139743858489,\n",
       "  7.283479397632725,\n",
       "  5.427394522887449,\n",
       "  5.864466977375359,\n",
       "  6.979656493160602,\n",
       "  6.9990549286102395],\n",
       " [7.8140970211446135,\n",
       "  7.133099539836566,\n",
       "  6.130248933918666,\n",
       "  6.119376221904179,\n",
       "  5.864912297924623,\n",
       "  6.946094951644408,\n",
       "  8.078722223877719,\n",
       "  7.474822859052132,\n",
       "  6.736291525887088,\n",
       "  6.541569889952753,\n",
       "  6.202051118262613,\n",
       "  7.371181276445692,\n",
       "  6.345753009664885,\n",
       "  8.745911344011105,\n",
       "  6.555455000527586,\n",
       "  7.285961759478037,\n",
       "  6.927010399985255,\n",
       "  8.122333499087496,\n",
       "  7.30242752853156,\n",
       "  7.55137001709671,\n",
       "  5.5629528308470135,\n",
       "  6.979999167914186,\n",
       "  6.700012345026463,\n",
       "  7.030016669986261,\n",
       "  6.708385578162058,\n",
       "  7.181386900329043,\n",
       "  5.850009902554212,\n",
       "  6.112139701533683,\n",
       "  7.863776219411054,\n",
       "  7.197528684398615],\n",
       " [8.831663609638307,\n",
       "  7.94493199572417,\n",
       "  8.143985321085685,\n",
       "  6.591566058239714,\n",
       "  8.445946225514223,\n",
       "  8.639144104952656,\n",
       "  10.094160190026317,\n",
       "  10.731011863382374,\n",
       "  7.8164150167385165,\n",
       "  7.08113213106069,\n",
       "  7.785858194955247,\n",
       "  8.00961058971278,\n",
       "  9.171513082249072,\n",
       "  11.670328763437622,\n",
       "  7.537109721872033,\n",
       "  8.608844944762836,\n",
       "  7.415503239980845,\n",
       "  9.851336304856614,\n",
       "  8.375025238713182,\n",
       "  9.83284099193461,\n",
       "  7.678680522919606,\n",
       "  8.498410208265955,\n",
       "  8.578957266549928,\n",
       "  9.330657201606572,\n",
       "  8.493189951248478,\n",
       "  9.679835517572752,\n",
       "  7.828229121100035,\n",
       "  6.35144241849878,\n",
       "  9.990542594326879,\n",
       "  8.322012744072685],\n",
       " [8.812491307990108,\n",
       "  7.924574850857065,\n",
       "  6.547398278782775,\n",
       "  6.335065403093237,\n",
       "  7.030812993169966,\n",
       "  7.935158434486878,\n",
       "  8.60008973150772,\n",
       "  9.274680342902878,\n",
       "  7.338261169377347,\n",
       "  6.684246763409741,\n",
       "  7.271143749538765,\n",
       "  8.398417972808819,\n",
       "  6.704515216939219,\n",
       "  10.278744025508537,\n",
       "  7.6678949158791605,\n",
       "  7.361361395316534,\n",
       "  7.378960254093662,\n",
       "  8.652807112013527,\n",
       "  7.315023532820363,\n",
       "  8.537125870730351,\n",
       "  6.811898542031353,\n",
       "  7.551703054791741,\n",
       "  7.336829244258933,\n",
       "  8.490301424340858,\n",
       "  7.720931258861131,\n",
       "  9.03582316317724,\n",
       "  7.006387876770232,\n",
       "  5.514487353531946,\n",
       "  8.801451261585937,\n",
       "  8.642362086638943],\n",
       " [7.050580982898621,\n",
       "  7.533777703923268,\n",
       "  5.95883173526095,\n",
       "  5.292279678550286,\n",
       "  5.7702748977787826,\n",
       "  6.378290463761945,\n",
       "  7.647485789683888,\n",
       "  7.881018629827669,\n",
       "  6.7559569510607975,\n",
       "  5.8420944472141985,\n",
       "  6.4669040948644465,\n",
       "  7.470582614056702,\n",
       "  6.369376744231399,\n",
       "  8.195229505841036,\n",
       "  7.323321653057281,\n",
       "  6.83738449191304,\n",
       "  6.560587861304837,\n",
       "  7.799940693765009,\n",
       "  5.986845221158162,\n",
       "  7.716881208533824,\n",
       "  6.173236448912294,\n",
       "  7.1207890842529,\n",
       "  7.428009489946163,\n",
       "  7.782238905662111,\n",
       "  6.315542588170933,\n",
       "  8.4244735268001,\n",
       "  6.769647687505676,\n",
       "  6.70362449727319,\n",
       "  8.090908956588247,\n",
       "  7.043237983628738],\n",
       " [7.767123370945679,\n",
       "  7.236563394818121,\n",
       "  6.134029800801902,\n",
       "  6.153508679352041,\n",
       "  6.947661394551886,\n",
       "  7.111465471214315,\n",
       "  9.004051782481762,\n",
       "  9.1574824479469,\n",
       "  7.376383521887607,\n",
       "  7.313776054902132,\n",
       "  6.9757833952556805,\n",
       "  8.042859601895088,\n",
       "  6.661578662695515,\n",
       "  9.559229045221288,\n",
       "  7.635986340567079,\n",
       "  7.999413093258195,\n",
       "  6.9138404420494926,\n",
       "  8.458978065428012,\n",
       "  8.026795288973595,\n",
       "  8.450701345234613,\n",
       "  6.7404270469811,\n",
       "  7.784631341228173,\n",
       "  7.916373038193932,\n",
       "  8.402258268469264,\n",
       "  6.952347704325121,\n",
       "  9.080362022902706,\n",
       "  6.784920011398206,\n",
       "  7.4601929908774975,\n",
       "  7.640542703594234,\n",
       "  7.151593073046421],\n",
       " [8.634829107635378,\n",
       "  8.188919684228932,\n",
       "  7.197543180594081,\n",
       "  6.6413834145128385,\n",
       "  8.316292292551818,\n",
       "  8.486069242660854,\n",
       "  10.487582104106826,\n",
       "  9.924651277326953,\n",
       "  8.406676704812867,\n",
       "  6.72722417938844,\n",
       "  7.827870567123157,\n",
       "  9.530469552313669,\n",
       "  8.493194218671906,\n",
       "  10.491050650828711,\n",
       "  7.690986340033814,\n",
       "  8.991092445934049,\n",
       "  7.238446351897492,\n",
       "  9.757286552905152,\n",
       "  7.880675488583586,\n",
       "  9.11521838327868,\n",
       "  6.425449553282975,\n",
       "  8.932441962799153,\n",
       "  7.619877821087509,\n",
       "  8.454790249988111,\n",
       "  8.30863089602646,\n",
       "  9.660024450230491,\n",
       "  7.893354186916778,\n",
       "  7.675904743611623,\n",
       "  9.474062618027965,\n",
       "  8.799367031529636],\n",
       " [7.144204697612464,\n",
       "  6.578835904299254,\n",
       "  5.869855543045391,\n",
       "  5.235767331407801,\n",
       "  6.869776874377062,\n",
       "  6.9415498339135375,\n",
       "  7.761827228617675,\n",
       "  8.35585696331206,\n",
       "  6.220993222589014,\n",
       "  6.064715053598082,\n",
       "  7.410154901149876,\n",
       "  6.812449194677356,\n",
       "  6.646448534684704,\n",
       "  8.862828169900713,\n",
       "  6.969168523251844,\n",
       "  6.888536877219671,\n",
       "  6.496188737857327,\n",
       "  7.9488633236531765,\n",
       "  6.8459322203406225,\n",
       "  7.4257377167705885,\n",
       "  6.36434704402503,\n",
       "  6.555897072098003,\n",
       "  7.4232848724450475,\n",
       "  8.316494904064273,\n",
       "  6.883569803799557,\n",
       "  7.374989353501363,\n",
       "  6.5035132357735765,\n",
       "  5.6036124774994205,\n",
       "  7.638994717734133,\n",
       "  8.03507717747114],\n",
       " [6.7249549073117585,\n",
       "  6.777423555781392,\n",
       "  6.335126857605203,\n",
       "  5.709282488606085,\n",
       "  7.143385226834121,\n",
       "  7.3136148353848425,\n",
       "  8.158727253326013,\n",
       "  8.647148976956261,\n",
       "  6.320569980298064,\n",
       "  5.440559510212845,\n",
       "  6.9168260596346665,\n",
       "  7.30405377048814,\n",
       "  6.011500773914139,\n",
       "  8.53980362715761,\n",
       "  6.277131379421642,\n",
       "  6.668357146621567,\n",
       "  5.742841640128883,\n",
       "  7.841202644241422,\n",
       "  6.5500764539290754,\n",
       "  7.3933909704867435,\n",
       "  6.291748147984473,\n",
       "  6.459922659313881,\n",
       "  6.271557081658022,\n",
       "  7.714632889042889,\n",
       "  6.571471271616365,\n",
       "  7.266502880540237,\n",
       "  5.9493360048968364,\n",
       "  6.00190950059892,\n",
       "  7.964045461706601,\n",
       "  7.082390354893239],\n",
       " [7.198377190933458,\n",
       "  6.996007103211286,\n",
       "  6.148019977148493,\n",
       "  4.818977937113139,\n",
       "  5.844101020045852,\n",
       "  7.420200981058385,\n",
       "  7.745522762930015,\n",
       "  8.147034078615842,\n",
       "  6.374258708083697,\n",
       "  5.684925632633843,\n",
       "  5.953135505988554,\n",
       "  7.133899984638317,\n",
       "  6.20858864721733,\n",
       "  8.775588501978001,\n",
       "  6.391219548010473,\n",
       "  6.976289947908494,\n",
       "  6.536003667439222,\n",
       "  8.284087888927639,\n",
       "  6.505117616146077,\n",
       "  7.09171243835172,\n",
       "  5.84988653079085,\n",
       "  6.860988473102161,\n",
       "  6.458459642120255,\n",
       "  7.873564879867452,\n",
       "  5.9221403612761225,\n",
       "  6.740762539097822,\n",
       "  5.545209136796122,\n",
       "  5.691719806174728,\n",
       "  8.692823091728147,\n",
       "  7.162517589853258],\n",
       " [8.54246027429802,\n",
       "  8.755213331725667,\n",
       "  7.577983883732384,\n",
       "  7.322993152884334,\n",
       "  6.859589518417623,\n",
       "  7.991548672638687,\n",
       "  8.692117397874014,\n",
       "  9.707451744186077,\n",
       "  8.34530286918401,\n",
       "  7.521166402367579,\n",
       "  8.038220948265568,\n",
       "  8.636246811922259,\n",
       "  7.346887263963507,\n",
       "  10.354404867255912,\n",
       "  8.716436651501857,\n",
       "  8.40753282022389,\n",
       "  7.887764819714589,\n",
       "  10.289460635511581,\n",
       "  7.470123292859201,\n",
       "  8.973076135355846,\n",
       "  7.099306491394577,\n",
       "  7.9877179485876555,\n",
       "  8.793208359051665,\n",
       "  9.379846030724314,\n",
       "  8.38266236186991,\n",
       "  8.890473955009588,\n",
       "  8.17514790912651,\n",
       "  7.911018358688617,\n",
       "  9.501087659437635,\n",
       "  8.661640727099096],\n",
       " [7.276450606840683,\n",
       "  7.669285231799624,\n",
       "  6.496252820743828,\n",
       "  5.9550780833205135,\n",
       "  6.707895536523002,\n",
       "  7.426348752230331,\n",
       "  8.15677564778385,\n",
       "  8.546832945644317,\n",
       "  6.890036463490285,\n",
       "  6.149486692880542,\n",
       "  6.638810187826585,\n",
       "  6.825759928238536,\n",
       "  7.468109012371751,\n",
       "  9.752602118886347,\n",
       "  6.729791932752221,\n",
       "  6.584272814287249,\n",
       "  6.7541939567831495,\n",
       "  8.429648354662262,\n",
       "  6.6658665858948805,\n",
       "  8.008579463019945,\n",
       "  6.307976467317133,\n",
       "  7.764622709833743,\n",
       "  6.93226800160398,\n",
       "  8.129265372733641,\n",
       "  7.491394647137628,\n",
       "  8.467677042051717,\n",
       "  6.3211306461707,\n",
       "  6.457479842594743,\n",
       "  8.067003225407955,\n",
       "  7.581675050220241],\n",
       " [5.290659577751141,\n",
       "  5.024516092533197,\n",
       "  4.9980445959614075,\n",
       "  4.481914107581135,\n",
       "  5.11368131101004,\n",
       "  5.294960517122601,\n",
       "  6.570399320456522,\n",
       "  6.900516859077119,\n",
       "  5.955554009521928,\n",
       "  5.378197682737116,\n",
       "  5.149097741089482,\n",
       "  5.749366185023359,\n",
       "  4.626461700620435,\n",
       "  6.195396407356585,\n",
       "  5.250297295394146,\n",
       "  6.30230718462913,\n",
       "  5.326908092289619,\n",
       "  5.91838022744844,\n",
       "  5.1321480053637485,\n",
       "  5.831236482649194,\n",
       "  4.784841416274971,\n",
       "  5.627812448357168,\n",
       "  5.284085881410665,\n",
       "  5.8732549323604015,\n",
       "  4.719965442788346,\n",
       "  5.754245247717417,\n",
       "  4.592378938350719,\n",
       "  6.052547539083393,\n",
       "  5.975014540663177,\n",
       "  5.296078723388483]]"
      ]
     },
     "execution_count": 59,
     "metadata": {},
     "output_type": "execute_result"
    }
   ],
   "source": [
    "produit(A, A)"
   ]
  },
  {
   "cell_type": "code",
   "execution_count": 60,
   "id": "27645edc-c5ed-4c42-90ad-bbea79ee4979",
   "metadata": {},
   "outputs": [
    {
     "name": "stdout",
     "output_type": "stream",
     "text": [
      "13.2 ms ± 204 µs per loop (mean ± std. dev. of 7 runs, 100 loops each)\n"
     ]
    }
   ],
   "source": [
    "# Sortons le chronomètre\n",
    "%timeit produit(A, A)"
   ]
  },
  {
   "cell_type": "code",
   "execution_count": 61,
   "id": "5658e3cc-5ad1-459d-b18d-dece00e03da0",
   "metadata": {},
   "outputs": [],
   "source": [
    "# Et maintenant, avec numpy !\n",
    "import numpy as np"
   ]
  },
  {
   "cell_type": "code",
   "execution_count": 62,
   "id": "39003f54-3a1b-4df2-a68e-6e0bb54e2468",
   "metadata": {},
   "outputs": [
    {
     "name": "stdout",
     "output_type": "stream",
     "text": [
      "[[0.47308271 0.7268556  0.17978971 0.1365599  0.62559306 0.93495463\n",
      "  0.90104681 0.36245312 0.52693873 0.45651029 0.15514096 0.75614882\n",
      "  0.2443018  0.7753709  0.4591125  0.46311174 0.85679669 0.49494774\n",
      "  0.54908666 0.45403942 0.00340631 0.50882281 0.1862842  0.33602452\n",
      "  0.27847525 0.18641385 0.07695597 0.37834411 0.43114544 0.90071949]\n",
      " [0.4537375  0.6066335  0.22400934 0.90821699 0.49799135 0.16950286\n",
      "  0.67132174 0.67681895 0.04827118 0.37788609 0.91623089 0.96181535\n",
      "  0.16596324 0.96702034 0.97151719 0.20703393 0.4138895  0.92139637\n",
      "  0.11342278 0.53634166 0.74858325 0.32746816 0.32524637 0.20240006\n",
      "  0.81060387 0.67999724 0.89540147 0.15176319 0.59386853 0.42678504]\n",
      " [0.12528572 0.12440237 0.36197608 0.55712036 0.98373192 0.98065942\n",
      "  0.33108459 0.95742665 0.24159422 0.69875265 0.44283039 0.47784736\n",
      "  0.12829937 0.60827229 0.20163787 0.13660873 0.12886518 0.66054001\n",
      "  0.42521398 0.0287658  0.98949705 0.50331785 0.4950362  0.96055663\n",
      "  0.74243786 0.35730754 0.32067301 0.71626956 0.1143808  0.20994048]\n",
      " [0.3108565  0.05467635 0.28952267 0.23821859 0.71916216 0.34769922\n",
      "  0.95444381 0.81188072 0.63498019 0.1749947  0.92188056 0.95387695\n",
      "  0.01467339 0.15867554 0.20810781 0.3855353  0.11264238 0.25910524\n",
      "  0.39831573 0.22408398 0.05831524 0.07263664 0.12133727 0.22189008\n",
      "  0.27557497 0.40784603 0.83274103 0.46280289 0.74772428 0.76838999]\n",
      " [0.73285174 0.06292252 0.56264316 0.97419532 0.91921162 0.51695103\n",
      "  0.80422074 0.95616785 0.74727174 0.87453757 0.95310628 0.47854885\n",
      "  0.69547607 0.93632504 0.26611912 0.55808599 0.55319383 0.879266\n",
      "  0.81040919 0.67528672 0.44747001 0.18608991 0.22493387 0.87267232\n",
      "  0.30166933 0.55201166 0.32097638 0.34083714 0.02228776 0.87281928]\n",
      " [0.51032875 0.37095359 0.21679392 0.4125005  0.33132361 0.09757333\n",
      "  0.91540921 0.21459217 0.09507872 0.91025124 0.41418907 0.31723379\n",
      "  0.75914834 0.61918587 0.24397969 0.47816481 0.53638128 0.02466854\n",
      "  0.49194225 0.82327499 0.58966826 0.83678869 0.28104321 0.44644351\n",
      "  0.35309247 0.99971485 0.06005099 0.17493596 0.41360803 0.11985955]\n",
      " [0.44939336 0.64234192 0.06474944 0.08317259 0.35231129 0.25134612\n",
      "  0.55068268 0.10711281 0.32443484 0.15115398 0.73365547 0.54308772\n",
      "  0.66527002 0.01801237 0.83765556 0.24618843 0.87153722 0.37331141\n",
      "  0.11365564 0.22687288 0.70719126 0.61921652 0.54057637 0.78036171\n",
      "  0.62424675 0.58932824 0.86686362 0.68848704 0.70227746 0.9962291 ]\n",
      " [0.48317146 0.86450047 0.31188397 0.23402485 0.33378991 0.04003162\n",
      "  0.6788772  0.99900469 0.35647638 0.19324423 0.14238426 0.10397165\n",
      "  0.55267389 0.81986436 0.26394976 0.44166862 0.89219196 0.97326685\n",
      "  0.83778405 0.27116705 0.45591867 0.19005886 0.32404399 0.56839738\n",
      "  0.53671497 0.05819397 0.98625956 0.32477391 0.45697159 0.2591239 ]\n",
      " [0.58661993 0.85983419 0.64220632 0.46956207 0.190985   0.08276593\n",
      "  0.49918345 0.46010726 0.50330532 0.2046603  0.731682   0.05494657\n",
      "  0.06679065 0.41760339 0.90948033 0.50559573 0.38676192 0.12147789\n",
      "  0.31813964 0.90088279 0.14034942 0.19652641 0.36453832 0.07790123\n",
      "  0.60087784 0.09164714 0.2437777  0.81373712 0.14139928 0.68522271]\n",
      " [0.29653496 0.65682261 0.49447586 0.00522622 0.20179785 0.02523967\n",
      "  0.41448823 0.90550583 0.84356211 0.24970643 0.13207001 0.68997569\n",
      "  0.06179678 0.19947615 0.1695404  0.96157274 0.29180505 0.86146194\n",
      "  0.00732192 0.72828799 0.84130569 0.95374513 0.21256332 0.79096177\n",
      "  0.32646982 0.01453449 0.09153803 0.94127356 0.64657596 0.04112777]\n",
      " [0.52417311 0.18773332 0.01460903 0.05372331 0.83649352 0.78321593\n",
      "  0.94162279 0.80025848 0.21941668 0.35590738 0.09627091 0.93010739\n",
      "  0.54624488 0.43329553 0.40905007 0.92305116 0.25235936 0.02154344\n",
      "  0.38829882 0.99757244 0.59694197 0.98317712 0.30731044 0.06370568\n",
      "  0.81119186 0.68265721 0.30459419 0.25765608 0.42115157 0.64217508]\n",
      " [0.43276112 0.1048885  0.06590375 0.91431539 0.22396804 0.4206919\n",
      "  0.13867395 0.29956179 0.70320779 0.39783744 0.46669867 0.15645808\n",
      "  0.75674025 0.65740469 0.78894025 0.70605792 0.12183907 0.83897786\n",
      "  0.7086322  0.4885744  0.009725   0.43903839 0.63495201 0.00248634\n",
      "  0.46598223 0.96853392 0.60530405 0.7570372  0.32894483 0.22669205]\n",
      " [0.23762756 0.27063235 0.92315334 0.22225405 0.5954126  0.29562939\n",
      "  0.6453066  0.95512297 0.29305267 0.5613894  0.83784347 0.31877081\n",
      "  0.35163752 0.71247195 0.71237512 0.68122128 0.75048396 0.0545693\n",
      "  0.70196768 0.95936905 0.86230029 0.14910107 0.67206649 0.26273879\n",
      "  0.30855361 0.65812053 0.2264726  0.18259175 0.99081429 0.45341911]\n",
      " [0.83313373 0.95551567 0.54091923 0.18176687 0.89309004 0.33686748\n",
      "  0.78920723 0.99261914 0.756462   0.0820121  0.22976942 0.35814535\n",
      "  0.64920533 0.45745221 0.06887406 0.28650264 0.48873923 0.80099805\n",
      "  0.28539114 0.38018859 0.54844174 0.80874659 0.31021789 0.4397925\n",
      "  0.25812027 0.79919953 0.77980251 0.64513078 0.47862609 0.50883358]\n",
      " [0.10998606 0.60422829 0.55888072 0.0048425  0.52201057 0.15130821\n",
      "  0.81390271 0.58928295 0.60104859 0.16482096 0.11174471 0.16657768\n",
      "  0.740034   0.92183705 0.10405361 0.6637218  0.52561399 0.40183203\n",
      "  0.13667496 0.97217131 0.07577748 0.93878651 0.27217165 0.11025737\n",
      "  0.61577828 0.86659214 0.25609466 0.08086776 0.56796284 0.43237908]\n",
      " [0.94957098 0.56305564 0.36507848 0.16155849 0.10393555 0.26811053\n",
      "  0.36510748 0.02155563 0.63309817 0.6285619  0.4197454  0.84851662\n",
      "  0.06384956 0.54337025 0.94706185 0.14611743 0.53596102 0.29394747\n",
      "  0.99557791 0.96221962 0.35575305 0.81012529 0.9687767  0.65531937\n",
      "  0.37250854 0.89742168 0.27069852 0.13664922 0.14686061 0.18725698]\n",
      " [0.01624852 0.2818727  0.44967806 0.77580507 0.13208788 0.26431187\n",
      "  0.27964932 0.8835732  0.78042505 0.60362119 0.51944815 0.13801269\n",
      "  0.4547539  0.16565667 0.87344888 0.94963622 0.69971076 0.50980973\n",
      "  0.12008555 0.26232573 0.0769372  0.29746438 0.53279983 0.09274466\n",
      "  0.04115698 0.44766261 0.55089744 0.94930072 0.81159792 0.49526142]\n",
      " [0.76409942 0.06770074 0.07559655 0.30165651 0.24998926 0.65659245\n",
      "  0.39707397 0.21918831 0.77167385 0.33471462 0.21504386 0.07437066\n",
      "  0.45983312 0.80071377 0.46401763 0.9758684  0.18702719 0.8221073\n",
      "  0.64614632 0.09538653 0.27204813 0.38126315 0.49571302 0.55279881\n",
      "  0.59786366 0.41593731 0.39540914 0.67850681 0.67033629 0.4611702 ]\n",
      " [0.80941073 0.77061355 0.06570942 0.27443475 0.48131753 0.32207301\n",
      "  0.26029481 0.45623354 0.37004196 0.37167644 0.59969705 0.51417652\n",
      "  0.48715707 0.5360746  0.16515359 0.62185595 0.44850009 0.67842275\n",
      "  0.21303305 0.039876   0.37336562 0.7253458  0.55327702 0.93361889\n",
      "  0.57296621 0.63851783 0.52360873 0.37484221 0.16180726 0.96707304]\n",
      " [0.20196516 0.37793578 0.44027708 0.35985233 0.6544898  0.9531948\n",
      "  0.20522302 0.92357997 0.34279106 0.26130721 0.80875254 0.84702939\n",
      "  0.92028597 0.95545272 0.99601497 0.22129025 0.0372281  0.6775233\n",
      "  0.34761994 0.84664921 0.34901838 0.18111062 0.89752598 0.68513415\n",
      "  0.73744564 0.86302278 0.985973   0.04517318 0.84717824 0.61127076]\n",
      " [0.82195128 0.77928338 0.26487788 0.47239739 0.2933123  0.50963484\n",
      "  0.07173839 0.81036456 0.19254537 0.20270633 0.88364356 0.00409891\n",
      "  0.28781681 0.81654277 0.22913528 0.93623671 0.82404356 0.69702673\n",
      "  0.77980105 0.87063208 0.87744509 0.13266211 0.08175399 0.81130251\n",
      "  0.30961419 0.92154696 0.21640895 0.12979554 0.81137962 0.85340653]\n",
      " [0.35254573 0.60051863 0.1777651  0.16720583 0.01982456 0.63287967\n",
      "  0.86201536 0.30395903 0.27946698 0.55589047 0.24853302 0.61581024\n",
      "  0.59574804 0.90148042 0.01962656 0.60829995 0.5990339  0.42486963\n",
      "  0.6285745  0.72149666 0.20899714 0.65079675 0.4852197  0.53084012\n",
      "  0.25082911 0.65034686 0.26363501 0.83198815 0.68207696 0.21725925]\n",
      " [0.124571   0.52044616 0.95580877 0.23589112 0.58616898 0.93767402\n",
      "  0.2884781  0.84625641 0.36125045 0.28282774 0.62403573 0.7605764\n",
      "  0.89064419 0.55672849 0.0126053  0.94586981 0.4825317  0.88621518\n",
      "  0.82302361 0.2079822  0.05823583 0.85671253 0.48118772 0.64586121\n",
      "  0.25203457 0.13502645 0.00165233 0.88183409 0.74031295 0.10645863]\n",
      " [0.55004097 0.94887518 0.34835027 0.8344071  0.33857644 0.65891508\n",
      "  0.5953245  0.26058292 0.4833421  0.59498036 0.69273428 0.80177645\n",
      "  0.19814427 0.95842697 0.88948081 0.04079605 0.09933502 0.93231535\n",
      "  0.70971766 0.5954407  0.34050456 0.81717219 0.68120516 0.83914436\n",
      "  0.90071545 0.25296161 0.02693874 0.35690918 0.8042201  0.93607257]\n",
      " [0.39104719 0.28567465 0.69791455 0.40637255 0.94472502 0.30411338\n",
      "  0.92789266 0.45764582 0.47151915 0.02765941 0.40130593 0.30466207\n",
      "  0.96401993 0.18463289 0.62912023 0.64989917 0.23079096 0.58668953\n",
      "  0.8981784  0.61624592 0.26200936 0.09029694 0.71827643 0.58917336\n",
      "  0.36564656 0.2598083  0.90561766 0.17296783 0.29961455 0.13029591]\n",
      " [0.58185648 0.63851513 0.85156094 0.71496334 0.23139563 0.43789785\n",
      "  0.19602522 0.1136419  0.39776298 0.36832532 0.50555207 0.0848559\n",
      "  0.43285626 0.95768226 0.07257598 0.09324774 0.4324089  0.47799242\n",
      "  0.12959234 0.48502992 0.77708263 0.50147958 0.54607575 0.9493661\n",
      "  0.93581741 0.6942079  0.15588945 0.2039983  0.61360012 0.37217773]\n",
      " [0.89244978 0.48459799 0.25958702 0.18736568 0.09572112 0.65669423\n",
      "  0.48130349 0.49632163 0.1360303  0.58626574 0.13817853 0.14497568\n",
      "  0.34921749 0.63543231 0.42330566 0.2832755  0.37762327 0.80191134\n",
      "  0.13476094 0.38615544 0.79639918 0.16909942 0.98583609 0.93605219\n",
      "  0.35915728 0.06952215 0.84508162 0.10705359 0.98624258 0.69931   ]\n",
      " [0.57016638 0.9115073  0.65709757 0.50545647 0.42411371 0.3566531\n",
      "  0.70659311 0.66830121 0.81160349 0.78458409 0.05421095 0.82794244\n",
      "  0.17511206 0.12806854 0.64314492 0.76609386 0.70861538 0.55411585\n",
      "  0.44079905 0.79822682 0.31893876 0.24415703 0.77984294 0.57883871\n",
      "  0.24884866 0.9019152  0.89969898 0.84572878 0.41338123 0.66843539]\n",
      " [0.4966116  0.1168943  0.82472526 0.07961649 0.41031416 0.91598954\n",
      "  0.89403678 0.83562803 0.65348571 0.20884318 0.31016915 0.9417625\n",
      "  0.15367323 0.9108046  0.88047555 0.11411812 0.16106256 0.27873611\n",
      "  0.11507867 0.75206079 0.42248166 0.27736194 0.5976492  0.89442276\n",
      "  0.04623115 0.77571722 0.32386647 0.22570099 0.78625768 0.56609189]\n",
      " [0.92041458 0.08505393 0.88956759 0.69216522 0.15634091 0.78491218\n",
      "  0.20214057 0.2257909  0.53127893 0.99173036 0.07778643 0.77077649\n",
      "  0.60145175 0.18094504 0.05010196 0.34562969 0.77722085 0.21619274\n",
      "  0.56915166 0.02143503 0.03766343 0.35059627 0.20745051 0.03397015\n",
      "  0.44107521 0.34571946 0.23441787 0.16494336 0.47907814 0.44628227]]\n"
     ]
    }
   ],
   "source": [
    "A2 = np.array(A)\n",
    "print(A2)"
   ]
  },
  {
   "cell_type": "code",
   "execution_count": 63,
   "id": "d4abaf47-4059-4e35-83e8-7ee9673c2e2e",
   "metadata": {},
   "outputs": [
    {
     "name": "stdout",
     "output_type": "stream",
     "text": [
      "3.03 µs ± 19.8 ns per loop (mean ± std. dev. of 7 runs, 100,000 loops each)\n"
     ]
    }
   ],
   "source": [
    "%timeit np.dot(A, A)"
   ]
  },
  {
   "cell_type": "markdown",
   "id": "79928725-48a4-4dd2-ae50-99783ed90d87",
   "metadata": {},
   "source": [
    "EXERCICE - Remplissez le tableau suivant avec les durées d'exécution constatées :\n",
    "\n",
    "(Conseil : pour la taille 3000, essayez UNIQUEMENT avec numpy)\n",
    "\n",
    "Taille | Python | numpy\n",
    "-------|--------|-------\n",
    "30     | 23.3 ms ± 228 µs    | 184 µs ± 1.35 µs\n",
    "300    | 22.2 s ± 47.1 ms   | 14.9 ms ± 44.6 µs\n",
    "3000   | XXX    | 1.82 s ± 36.1 ms"
   ]
  },
  {
   "cell_type": "markdown",
   "id": "f83a4e6a-95b0-46fa-8109-10765c3997f1",
   "metadata": {},
   "source": [
    "###  Pandas"
   ]
  },
  {
   "cell_type": "code",
   "execution_count": 64,
   "id": "9f767f8d-333c-41ff-b5ed-45b840466af9",
   "metadata": {},
   "outputs": [],
   "source": [
    "import pandas as pd"
   ]
  },
  {
   "cell_type": "code",
   "execution_count": 65,
   "id": "7ea3ab2b-4c8c-4217-99ab-8135a7ba08b7",
   "metadata": {},
   "outputs": [
    {
     "data": {
      "text/html": [
       "<div>\n",
       "<style scoped>\n",
       "    .dataframe tbody tr th:only-of-type {\n",
       "        vertical-align: middle;\n",
       "    }\n",
       "\n",
       "    .dataframe tbody tr th {\n",
       "        vertical-align: top;\n",
       "    }\n",
       "\n",
       "    .dataframe thead th {\n",
       "        text-align: right;\n",
       "    }\n",
       "</style>\n",
       "<table border=\"1\" class=\"dataframe\">\n",
       "  <thead>\n",
       "    <tr style=\"text-align: right;\">\n",
       "      <th></th>\n",
       "      <th>ESN</th>\n",
       "      <th>panne</th>\n",
       "    </tr>\n",
       "  </thead>\n",
       "  <tbody>\n",
       "    <tr>\n",
       "      <th>0</th>\n",
       "      <td>E420912</td>\n",
       "      <td>False</td>\n",
       "    </tr>\n",
       "    <tr>\n",
       "      <th>1</th>\n",
       "      <td>E420913</td>\n",
       "      <td>False</td>\n",
       "    </tr>\n",
       "    <tr>\n",
       "      <th>2</th>\n",
       "      <td>E420914</td>\n",
       "      <td>True</td>\n",
       "    </tr>\n",
       "  </tbody>\n",
       "</table>\n",
       "</div>"
      ],
      "text/plain": [
       "       ESN  panne\n",
       "0  E420912  False\n",
       "1  E420913  False\n",
       "2  E420914   True"
      ]
     },
     "execution_count": 65,
     "metadata": {},
     "output_type": "execute_result"
    }
   ],
   "source": [
    "df_exemple = pd.DataFrame({\"ESN\": [\"E420912\", \"E420913\", \"E420914\"], \"panne\": [False, False, True]})\n",
    "df_exemple"
   ]
  },
  {
   "cell_type": "markdown",
   "id": "3eaef54e-f9f2-486d-8e11-4519680a764b",
   "metadata": {},
   "source": [
    "#### Lecture et prétraitement de données\n"
   ]
  },
  {
   "cell_type": "code",
   "execution_count": 66,
   "id": "ad2c6594-9610-49c7-bf08-81f64d718d63",
   "metadata": {},
   "outputs": [
    {
     "name": "stdout",
     "output_type": "stream",
     "text": [
      "fatal: destination path 'MACS3-Statistiques-Descriptives-TDs' already exists and is not an empty directory.\n"
     ]
    }
   ],
   "source": [
    "!git clone https://github.com/MadaneA/MACS3-Statistiques-Descriptives-TDs.git"
   ]
  },
  {
   "cell_type": "code",
   "execution_count": 67,
   "id": "485f489e-365c-4abc-ae1c-223e921b8123",
   "metadata": {},
   "outputs": [],
   "source": [
    "import os\n",
    "os.chdir('MACS3-Statistiques-Descriptives-TDs')"
   ]
  },
  {
   "cell_type": "code",
   "execution_count": 68,
   "id": "ee2386c9",
   "metadata": {},
   "outputs": [
    {
     "data": {
      "text/plain": [
       "'/Users/abanishbaskaradevan/Dossier Pages Sur Ordinateur/MACS 3/TD Statistique/MACS3-Statistiques-Descriptives-TDs'"
      ]
     },
     "execution_count": 68,
     "metadata": {},
     "output_type": "execute_result"
    }
   ],
   "source": [
    " os.getcwd()"
   ]
  },
  {
   "cell_type": "code",
   "execution_count": 69,
   "id": "78c64597-73b2-443c-b0cf-aa2989f6ef8d",
   "metadata": {},
   "outputs": [
    {
     "data": {
      "text/html": [
       "<div>\n",
       "<style scoped>\n",
       "    .dataframe tbody tr th:only-of-type {\n",
       "        vertical-align: middle;\n",
       "    }\n",
       "\n",
       "    .dataframe tbody tr th {\n",
       "        vertical-align: top;\n",
       "    }\n",
       "\n",
       "    .dataframe thead th {\n",
       "        text-align: right;\n",
       "    }\n",
       "</style>\n",
       "<table border=\"1\" class=\"dataframe\">\n",
       "  <thead>\n",
       "    <tr style=\"text-align: right;\">\n",
       "      <th></th>\n",
       "      <th>t</th>\n",
       "      <th>EGT_SEL</th>\n",
       "      <th>FLIGHT_MOD</th>\n",
       "      <th>FMV_SEL</th>\n",
       "      <th>HPTC_SEL</th>\n",
       "      <th>LPTC_SEL</th>\n",
       "      <th>N1_SEL</th>\n",
       "      <th>N2_ACTSEL</th>\n",
       "      <th>OIL_P</th>\n",
       "      <th>OIL_TEMP</th>\n",
       "      <th>...</th>\n",
       "      <th>T25_SEL</th>\n",
       "      <th>T3_SEL</th>\n",
       "      <th>VBV_SEL</th>\n",
       "      <th>VIB_CN1</th>\n",
       "      <th>VIB_CN2</th>\n",
       "      <th>VIB_TN1</th>\n",
       "      <th>VIB_TN2</th>\n",
       "      <th>VSV_SEL</th>\n",
       "      <th>WFM_SEL</th>\n",
       "      <th>XM</th>\n",
       "    </tr>\n",
       "  </thead>\n",
       "  <tbody>\n",
       "    <tr>\n",
       "      <th>0</th>\n",
       "      <td>datenum</td>\n",
       "      <td>deg_C</td>\n",
       "      <td>_</td>\n",
       "      <td>_</td>\n",
       "      <td>%</td>\n",
       "      <td>%</td>\n",
       "      <td>%</td>\n",
       "      <td>%_RPM</td>\n",
       "      <td>psi</td>\n",
       "      <td>_</td>\n",
       "      <td>...</td>\n",
       "      <td>_</td>\n",
       "      <td>_</td>\n",
       "      <td>DEG</td>\n",
       "      <td>_</td>\n",
       "      <td>_</td>\n",
       "      <td>_</td>\n",
       "      <td>_</td>\n",
       "      <td>DEG</td>\n",
       "      <td>lb/h</td>\n",
       "      <td>mach</td>\n",
       "    </tr>\n",
       "    <tr>\n",
       "      <th>1</th>\n",
       "      <td>15/09/2011 14:25:58.125</td>\n",
       "      <td>NaN</td>\n",
       "      <td>NaN</td>\n",
       "      <td>NaN</td>\n",
       "      <td>NaN</td>\n",
       "      <td>NaN</td>\n",
       "      <td>NaN</td>\n",
       "      <td>0</td>\n",
       "      <td>NaN</td>\n",
       "      <td>NaN</td>\n",
       "      <td>...</td>\n",
       "      <td>NaN</td>\n",
       "      <td>NaN</td>\n",
       "      <td>NaN</td>\n",
       "      <td>NaN</td>\n",
       "      <td>NaN</td>\n",
       "      <td>NaN</td>\n",
       "      <td>NaN</td>\n",
       "      <td>NaN</td>\n",
       "      <td>NaN</td>\n",
       "      <td>NaN</td>\n",
       "    </tr>\n",
       "    <tr>\n",
       "      <th>2</th>\n",
       "      <td>15/09/2011 14:25:58.375</td>\n",
       "      <td>NaN</td>\n",
       "      <td>NaN</td>\n",
       "      <td>NaN</td>\n",
       "      <td>NaN</td>\n",
       "      <td>NaN</td>\n",
       "      <td>NaN</td>\n",
       "      <td>0</td>\n",
       "      <td>NaN</td>\n",
       "      <td>NaN</td>\n",
       "      <td>...</td>\n",
       "      <td>NaN</td>\n",
       "      <td>NaN</td>\n",
       "      <td>NaN</td>\n",
       "      <td>NaN</td>\n",
       "      <td>NaN</td>\n",
       "      <td>NaN</td>\n",
       "      <td>NaN</td>\n",
       "      <td>NaN</td>\n",
       "      <td>NaN</td>\n",
       "      <td>NaN</td>\n",
       "    </tr>\n",
       "    <tr>\n",
       "      <th>3</th>\n",
       "      <td>15/09/2011 14:25:58.625</td>\n",
       "      <td>NaN</td>\n",
       "      <td>NaN</td>\n",
       "      <td>NaN</td>\n",
       "      <td>NaN</td>\n",
       "      <td>NaN</td>\n",
       "      <td>NaN</td>\n",
       "      <td>0</td>\n",
       "      <td>NaN</td>\n",
       "      <td>NaN</td>\n",
       "      <td>...</td>\n",
       "      <td>NaN</td>\n",
       "      <td>NaN</td>\n",
       "      <td>NaN</td>\n",
       "      <td>NaN</td>\n",
       "      <td>NaN</td>\n",
       "      <td>NaN</td>\n",
       "      <td>NaN</td>\n",
       "      <td>NaN</td>\n",
       "      <td>NaN</td>\n",
       "      <td>NaN</td>\n",
       "    </tr>\n",
       "    <tr>\n",
       "      <th>4</th>\n",
       "      <td>15/09/2011 14:25:58.875</td>\n",
       "      <td>NaN</td>\n",
       "      <td>NaN</td>\n",
       "      <td>NaN</td>\n",
       "      <td>NaN</td>\n",
       "      <td>NaN</td>\n",
       "      <td>NaN</td>\n",
       "      <td>0</td>\n",
       "      <td>NaN</td>\n",
       "      <td>NaN</td>\n",
       "      <td>...</td>\n",
       "      <td>NaN</td>\n",
       "      <td>NaN</td>\n",
       "      <td>NaN</td>\n",
       "      <td>NaN</td>\n",
       "      <td>NaN</td>\n",
       "      <td>NaN</td>\n",
       "      <td>NaN</td>\n",
       "      <td>NaN</td>\n",
       "      <td>7679.98</td>\n",
       "      <td>0.15</td>\n",
       "    </tr>\n",
       "  </tbody>\n",
       "</table>\n",
       "<p>5 rows × 26 columns</p>\n",
       "</div>"
      ],
      "text/plain": [
       "                         t EGT_SEL FLIGHT_MOD FMV_SEL HPTC_SEL LPTC_SEL  \\\n",
       "0                  datenum   deg_C          _       _        %        %   \n",
       "1  15/09/2011 14:25:58.125     NaN        NaN     NaN      NaN      NaN   \n",
       "2  15/09/2011 14:25:58.375     NaN        NaN     NaN      NaN      NaN   \n",
       "3  15/09/2011 14:25:58.625     NaN        NaN     NaN      NaN      NaN   \n",
       "4  15/09/2011 14:25:58.875     NaN        NaN     NaN      NaN      NaN   \n",
       "\n",
       "  N1_SEL N2_ACTSEL OIL_P OIL_TEMP  ... T25_SEL T3_SEL VBV_SEL VIB_CN1 VIB_CN2  \\\n",
       "0      %     %_RPM   psi        _  ...       _      _     DEG       _       _   \n",
       "1    NaN         0   NaN      NaN  ...     NaN    NaN     NaN     NaN     NaN   \n",
       "2    NaN         0   NaN      NaN  ...     NaN    NaN     NaN     NaN     NaN   \n",
       "3    NaN         0   NaN      NaN  ...     NaN    NaN     NaN     NaN     NaN   \n",
       "4    NaN         0   NaN      NaN  ...     NaN    NaN     NaN     NaN     NaN   \n",
       "\n",
       "  VIB_TN1 VIB_TN2 VSV_SEL  WFM_SEL    XM  \n",
       "0       _       _     DEG     lb/h  mach  \n",
       "1     NaN     NaN     NaN      NaN   NaN  \n",
       "2     NaN     NaN     NaN      NaN   NaN  \n",
       "3     NaN     NaN     NaN      NaN   NaN  \n",
       "4     NaN     NaN     NaN  7679.98  0.15  \n",
       "\n",
       "[5 rows x 26 columns]"
      ]
     },
     "execution_count": 69,
     "metadata": {},
     "output_type": "execute_result"
    }
   ],
   "source": [
    "# Chargement d'un fichier CSV ou Excel\n",
    "df = pd.read_csv(\"./data/Vol010.csv\")\n",
    "# Affichage des 5 premières lignes\n",
    "df.head()"
   ]
  },
  {
   "cell_type": "code",
   "execution_count": 70,
   "id": "eb4f6d36-3859-4e29-bf52-2b22a1315450",
   "metadata": {},
   "outputs": [
    {
     "name": "stdout",
     "output_type": "stream",
     "text": [
      "Nombre de colonnes : 26\n",
      "Nombre de lignes : 22945\n"
     ]
    }
   ],
   "source": [
    "\"\"\"\n",
    "EXERCICE - Dimensions d'un DataFrame\n",
    "Affichez le nombre de colonnes et de ligne du DataFrame (indice : beaucoup de méthodes sont communes entre numpy et pandas)\n",
    "\"\"\"\n",
    "#raise NotImplementedError\n",
    "print('Nombre de colonnes :',df.shape[1] )\n",
    "print('Nombre de lignes :', df.shape[0])"
   ]
  },
  {
   "cell_type": "code",
   "execution_count": 71,
   "id": "750285eb-c7a4-4add-a456-ca7dba6da8d3",
   "metadata": {},
   "outputs": [
    {
     "data": {
      "text/plain": [
       "(596570, 22945)"
      ]
     },
     "execution_count": 71,
     "metadata": {},
     "output_type": "execute_result"
    }
   ],
   "source": [
    "df.size, len(df)"
   ]
  },
  {
   "cell_type": "code",
   "execution_count": 72,
   "id": "7a84eae1-7967-4fcb-8ea3-6b75a4114c44",
   "metadata": {},
   "outputs": [
    {
     "data": {
      "text/plain": [
       "Index(['t', 'EGT_SEL', 'FLIGHT_MOD', 'FMV_SEL', 'HPTC_SEL', 'LPTC_SEL',\n",
       "       'N1_SEL', 'N2_ACTSEL', 'OIL_P', 'OIL_TEMP', 'PS3_SEL', 'PT2_SEL',\n",
       "       'P0_SEL', 'TAT', 'TBV_SEL', 'TRA_SEL', 'T25_SEL', 'T3_SEL', 'VBV_SEL',\n",
       "       'VIB_CN1', 'VIB_CN2', 'VIB_TN1', 'VIB_TN2', 'VSV_SEL', 'WFM_SEL', 'XM'],\n",
       "      dtype='object')"
      ]
     },
     "execution_count": 72,
     "metadata": {},
     "output_type": "execute_result"
    }
   ],
   "source": [
    "df.columns"
   ]
  },
  {
   "cell_type": "markdown",
   "id": "b6d406bd-7963-48c0-b02a-a072a091ca10",
   "metadata": {},
   "source": [
    "Les colonnes des DF sont typées, à la manière d'une base de données relationnelle, contrairement aux variables python classiques. Les types des colonnes sont accessibles via df.dtypes. Les principaux types sont les numériques (int32, int64, float etc."
   ]
  },
  {
   "cell_type": "code",
   "execution_count": 73,
   "id": "ab0b2e8b-c7f1-40dd-855c-150d726370d3",
   "metadata": {},
   "outputs": [
    {
     "data": {
      "text/html": [
       "<div>\n",
       "<style scoped>\n",
       "    .dataframe tbody tr th:only-of-type {\n",
       "        vertical-align: middle;\n",
       "    }\n",
       "\n",
       "    .dataframe tbody tr th {\n",
       "        vertical-align: top;\n",
       "    }\n",
       "\n",
       "    .dataframe thead th {\n",
       "        text-align: right;\n",
       "    }\n",
       "</style>\n",
       "<table border=\"1\" class=\"dataframe\">\n",
       "  <thead>\n",
       "    <tr style=\"text-align: right;\">\n",
       "      <th></th>\n",
       "      <th>EGT_SEL</th>\n",
       "      <th>FLIGHT_MOD</th>\n",
       "    </tr>\n",
       "  </thead>\n",
       "  <tbody>\n",
       "    <tr>\n",
       "      <th>10</th>\n",
       "      <td>0.00234327</td>\n",
       "      <td>NaN</td>\n",
       "    </tr>\n",
       "    <tr>\n",
       "      <th>11</th>\n",
       "      <td>1.08032e-007</td>\n",
       "      <td>NaN</td>\n",
       "    </tr>\n",
       "    <tr>\n",
       "      <th>12</th>\n",
       "      <td>3.12514e-012</td>\n",
       "      <td>NaN</td>\n",
       "    </tr>\n",
       "    <tr>\n",
       "      <th>13</th>\n",
       "      <td>0</td>\n",
       "      <td>NaN</td>\n",
       "    </tr>\n",
       "    <tr>\n",
       "      <th>14</th>\n",
       "      <td>72.0006</td>\n",
       "      <td>NaN</td>\n",
       "    </tr>\n",
       "    <tr>\n",
       "      <th>15</th>\n",
       "      <td>215.996</td>\n",
       "      <td>NaN</td>\n",
       "    </tr>\n",
       "  </tbody>\n",
       "</table>\n",
       "</div>"
      ],
      "text/plain": [
       "         EGT_SEL FLIGHT_MOD\n",
       "10    0.00234327        NaN\n",
       "11  1.08032e-007        NaN\n",
       "12  3.12514e-012        NaN\n",
       "13             0        NaN\n",
       "14       72.0006        NaN\n",
       "15       215.996        NaN"
      ]
     },
     "execution_count": 73,
     "metadata": {},
     "output_type": "execute_result"
    }
   ],
   "source": [
    "df.loc[10:15, ['EGT_SEL', 'FLIGHT_MOD']]"
   ]
  },
  {
   "cell_type": "code",
   "execution_count": 74,
   "id": "619de1e5-3826-457a-8f28-fde87421ad19",
   "metadata": {},
   "outputs": [],
   "source": [
    "\"\"\"\n",
    "EXERCICE - Extraction et suppression des unités\n",
    "On remarque que la 1ère ligne ne contient pas de données mais les unités de chaque colonne.\n",
    "Pour la suite des traitements, il faut supprimer cette ligne. On souhaite toutefois garder l'information des unités de chaque colonne.\n",
    "1. Récupérez les unités et stockez les dans une structure adaptée.\n",
    "2. Supprimez cette ligne du DataFrame en utilisant la méthode \"drop\"\n",
    "\"\"\"\n",
    "df.values[0]\n",
    "df.columns\n",
    "units=dict([(df.columns[i],df.values[0][i]) for i in range(df.shape[1])])\n",
    "df=df.drop([0])\n",
    "#raise NotImplementedError\n"
   ]
  },
  {
   "cell_type": "code",
   "execution_count": 75,
   "id": "553b87e6-f67a-4016-9501-c2f045a5ba2a",
   "metadata": {},
   "outputs": [
    {
     "name": "stdout",
     "output_type": "stream",
     "text": [
      "{'t': 'datenum', 'EGT_SEL': 'deg_C', 'FLIGHT_MOD': '_', 'FMV_SEL': '_', 'HPTC_SEL': '%', 'LPTC_SEL': '%', 'N1_SEL': '%', 'N2_ACTSEL': '%_RPM', 'OIL_P': 'psi', 'OIL_TEMP': '_', 'PS3_SEL': 'psi', 'PT2_SEL': 'mb', 'P0_SEL': 'psi', 'TAT': 'deg_C', 'TBV_SEL': '%', 'TRA_SEL': 'DEG', 'T25_SEL': '_', 'T3_SEL': '_', 'VBV_SEL': 'DEG', 'VIB_CN1': '_', 'VIB_CN2': '_', 'VIB_TN1': '_', 'VIB_TN2': '_', 'VSV_SEL': 'DEG', 'WFM_SEL': 'lb/h', 'XM': 'mach'}\n"
     ]
    },
    {
     "data": {
      "text/html": [
       "<div>\n",
       "<style scoped>\n",
       "    .dataframe tbody tr th:only-of-type {\n",
       "        vertical-align: middle;\n",
       "    }\n",
       "\n",
       "    .dataframe tbody tr th {\n",
       "        vertical-align: top;\n",
       "    }\n",
       "\n",
       "    .dataframe thead th {\n",
       "        text-align: right;\n",
       "    }\n",
       "</style>\n",
       "<table border=\"1\" class=\"dataframe\">\n",
       "  <thead>\n",
       "    <tr style=\"text-align: right;\">\n",
       "      <th></th>\n",
       "      <th>t</th>\n",
       "      <th>EGT_SEL</th>\n",
       "      <th>FLIGHT_MOD</th>\n",
       "      <th>FMV_SEL</th>\n",
       "      <th>HPTC_SEL</th>\n",
       "      <th>LPTC_SEL</th>\n",
       "      <th>N1_SEL</th>\n",
       "      <th>N2_ACTSEL</th>\n",
       "      <th>OIL_P</th>\n",
       "      <th>OIL_TEMP</th>\n",
       "      <th>...</th>\n",
       "      <th>T25_SEL</th>\n",
       "      <th>T3_SEL</th>\n",
       "      <th>VBV_SEL</th>\n",
       "      <th>VIB_CN1</th>\n",
       "      <th>VIB_CN2</th>\n",
       "      <th>VIB_TN1</th>\n",
       "      <th>VIB_TN2</th>\n",
       "      <th>VSV_SEL</th>\n",
       "      <th>WFM_SEL</th>\n",
       "      <th>XM</th>\n",
       "    </tr>\n",
       "  </thead>\n",
       "  <tbody>\n",
       "    <tr>\n",
       "      <th>1</th>\n",
       "      <td>15/09/2011 14:25:58.125</td>\n",
       "      <td>NaN</td>\n",
       "      <td>NaN</td>\n",
       "      <td>NaN</td>\n",
       "      <td>NaN</td>\n",
       "      <td>NaN</td>\n",
       "      <td>NaN</td>\n",
       "      <td>0</td>\n",
       "      <td>NaN</td>\n",
       "      <td>NaN</td>\n",
       "      <td>...</td>\n",
       "      <td>NaN</td>\n",
       "      <td>NaN</td>\n",
       "      <td>NaN</td>\n",
       "      <td>NaN</td>\n",
       "      <td>NaN</td>\n",
       "      <td>NaN</td>\n",
       "      <td>NaN</td>\n",
       "      <td>NaN</td>\n",
       "      <td>NaN</td>\n",
       "      <td>NaN</td>\n",
       "    </tr>\n",
       "    <tr>\n",
       "      <th>2</th>\n",
       "      <td>15/09/2011 14:25:58.375</td>\n",
       "      <td>NaN</td>\n",
       "      <td>NaN</td>\n",
       "      <td>NaN</td>\n",
       "      <td>NaN</td>\n",
       "      <td>NaN</td>\n",
       "      <td>NaN</td>\n",
       "      <td>0</td>\n",
       "      <td>NaN</td>\n",
       "      <td>NaN</td>\n",
       "      <td>...</td>\n",
       "      <td>NaN</td>\n",
       "      <td>NaN</td>\n",
       "      <td>NaN</td>\n",
       "      <td>NaN</td>\n",
       "      <td>NaN</td>\n",
       "      <td>NaN</td>\n",
       "      <td>NaN</td>\n",
       "      <td>NaN</td>\n",
       "      <td>NaN</td>\n",
       "      <td>NaN</td>\n",
       "    </tr>\n",
       "    <tr>\n",
       "      <th>3</th>\n",
       "      <td>15/09/2011 14:25:58.625</td>\n",
       "      <td>NaN</td>\n",
       "      <td>NaN</td>\n",
       "      <td>NaN</td>\n",
       "      <td>NaN</td>\n",
       "      <td>NaN</td>\n",
       "      <td>NaN</td>\n",
       "      <td>0</td>\n",
       "      <td>NaN</td>\n",
       "      <td>NaN</td>\n",
       "      <td>...</td>\n",
       "      <td>NaN</td>\n",
       "      <td>NaN</td>\n",
       "      <td>NaN</td>\n",
       "      <td>NaN</td>\n",
       "      <td>NaN</td>\n",
       "      <td>NaN</td>\n",
       "      <td>NaN</td>\n",
       "      <td>NaN</td>\n",
       "      <td>NaN</td>\n",
       "      <td>NaN</td>\n",
       "    </tr>\n",
       "    <tr>\n",
       "      <th>4</th>\n",
       "      <td>15/09/2011 14:25:58.875</td>\n",
       "      <td>NaN</td>\n",
       "      <td>NaN</td>\n",
       "      <td>NaN</td>\n",
       "      <td>NaN</td>\n",
       "      <td>NaN</td>\n",
       "      <td>NaN</td>\n",
       "      <td>0</td>\n",
       "      <td>NaN</td>\n",
       "      <td>NaN</td>\n",
       "      <td>...</td>\n",
       "      <td>NaN</td>\n",
       "      <td>NaN</td>\n",
       "      <td>NaN</td>\n",
       "      <td>NaN</td>\n",
       "      <td>NaN</td>\n",
       "      <td>NaN</td>\n",
       "      <td>NaN</td>\n",
       "      <td>NaN</td>\n",
       "      <td>7679.98</td>\n",
       "      <td>0.15</td>\n",
       "    </tr>\n",
       "    <tr>\n",
       "      <th>5</th>\n",
       "      <td>15/09/2011 14:25:59.125</td>\n",
       "      <td>NaN</td>\n",
       "      <td>NaN</td>\n",
       "      <td>NaN</td>\n",
       "      <td>NaN</td>\n",
       "      <td>NaN</td>\n",
       "      <td>0</td>\n",
       "      <td>0</td>\n",
       "      <td>647.998</td>\n",
       "      <td>NaN</td>\n",
       "      <td>...</td>\n",
       "      <td>NaN</td>\n",
       "      <td>NaN</td>\n",
       "      <td>0</td>\n",
       "      <td>0</td>\n",
       "      <td>0</td>\n",
       "      <td>0</td>\n",
       "      <td>0</td>\n",
       "      <td>0</td>\n",
       "      <td>4607.86</td>\n",
       "      <td>0.15</td>\n",
       "    </tr>\n",
       "  </tbody>\n",
       "</table>\n",
       "<p>5 rows × 26 columns</p>\n",
       "</div>"
      ],
      "text/plain": [
       "                         t EGT_SEL FLIGHT_MOD FMV_SEL HPTC_SEL LPTC_SEL  \\\n",
       "1  15/09/2011 14:25:58.125     NaN        NaN     NaN      NaN      NaN   \n",
       "2  15/09/2011 14:25:58.375     NaN        NaN     NaN      NaN      NaN   \n",
       "3  15/09/2011 14:25:58.625     NaN        NaN     NaN      NaN      NaN   \n",
       "4  15/09/2011 14:25:58.875     NaN        NaN     NaN      NaN      NaN   \n",
       "5  15/09/2011 14:25:59.125     NaN        NaN     NaN      NaN      NaN   \n",
       "\n",
       "  N1_SEL N2_ACTSEL    OIL_P OIL_TEMP  ... T25_SEL T3_SEL VBV_SEL VIB_CN1  \\\n",
       "1    NaN         0      NaN      NaN  ...     NaN    NaN     NaN     NaN   \n",
       "2    NaN         0      NaN      NaN  ...     NaN    NaN     NaN     NaN   \n",
       "3    NaN         0      NaN      NaN  ...     NaN    NaN     NaN     NaN   \n",
       "4    NaN         0      NaN      NaN  ...     NaN    NaN     NaN     NaN   \n",
       "5      0         0  647.998      NaN  ...     NaN    NaN       0       0   \n",
       "\n",
       "  VIB_CN2 VIB_TN1 VIB_TN2 VSV_SEL  WFM_SEL    XM  \n",
       "1     NaN     NaN     NaN     NaN      NaN   NaN  \n",
       "2     NaN     NaN     NaN     NaN      NaN   NaN  \n",
       "3     NaN     NaN     NaN     NaN      NaN   NaN  \n",
       "4     NaN     NaN     NaN     NaN  7679.98  0.15  \n",
       "5       0       0       0       0  4607.86  0.15  \n",
       "\n",
       "[5 rows x 26 columns]"
      ]
     },
     "execution_count": 75,
     "metadata": {},
     "output_type": "execute_result"
    }
   ],
   "source": [
    "print(units)\n",
    "df.head()"
   ]
  },
  {
   "cell_type": "markdown",
   "id": "9c7c08a2-0f12-4440-a3c7-90b810db37bb",
   "metadata": {},
   "source": [
    "On remarque que toutes les colonnes ont été reconnues comme de type object, c'est-à-dire des chaînes de caractères, alors que ce sont des valeurs numériques. Cela est dû à la première ligne contenant les unités. Il faut donc convertir les colonnes en numérique. La colonne 't', quant à elle, doit être convertie en type datetime."
   ]
  },
  {
   "cell_type": "code",
   "execution_count": 76,
   "id": "706a5be1-6b26-4380-a13e-7bad5976fcef",
   "metadata": {},
   "outputs": [],
   "source": [
    "df['t'] = pd.to_datetime(df['t'])\n",
    "df[df.columns[1:]] = df[df.columns[1:]].apply(pd.to_numeric)"
   ]
  },
  {
   "cell_type": "code",
   "execution_count": 77,
   "id": "2059e765-a56f-4f6a-992a-f4d98de33b5e",
   "metadata": {},
   "outputs": [
    {
     "data": {
      "text/plain": [
       "t             datetime64[ns]\n",
       "EGT_SEL              float64\n",
       "FLIGHT_MOD           float64\n",
       "FMV_SEL              float64\n",
       "HPTC_SEL             float64\n",
       "LPTC_SEL             float64\n",
       "N1_SEL               float64\n",
       "N2_ACTSEL            float64\n",
       "OIL_P                float64\n",
       "OIL_TEMP             float64\n",
       "PS3_SEL              float64\n",
       "PT2_SEL              float64\n",
       "P0_SEL               float64\n",
       "TAT                  float64\n",
       "TBV_SEL              float64\n",
       "TRA_SEL              float64\n",
       "T25_SEL              float64\n",
       "T3_SEL               float64\n",
       "VBV_SEL              float64\n",
       "VIB_CN1              float64\n",
       "VIB_CN2              float64\n",
       "VIB_TN1              float64\n",
       "VIB_TN2              float64\n",
       "VSV_SEL              float64\n",
       "WFM_SEL              float64\n",
       "XM                   float64\n",
       "dtype: object"
      ]
     },
     "execution_count": 77,
     "metadata": {},
     "output_type": "execute_result"
    }
   ],
   "source": [
    "df.dtypes"
   ]
  },
  {
   "cell_type": "code",
   "execution_count": 78,
   "id": "bd1beef0-c421-4fca-96b7-139ee5826d98",
   "metadata": {},
   "outputs": [
    {
     "data": {
      "text/html": [
       "<div>\n",
       "<style scoped>\n",
       "    .dataframe tbody tr th:only-of-type {\n",
       "        vertical-align: middle;\n",
       "    }\n",
       "\n",
       "    .dataframe tbody tr th {\n",
       "        vertical-align: top;\n",
       "    }\n",
       "\n",
       "    .dataframe thead th {\n",
       "        text-align: right;\n",
       "    }\n",
       "</style>\n",
       "<table border=\"1\" class=\"dataframe\">\n",
       "  <thead>\n",
       "    <tr style=\"text-align: right;\">\n",
       "      <th></th>\n",
       "      <th>EGT_SEL</th>\n",
       "      <th>FLIGHT_MOD</th>\n",
       "      <th>FMV_SEL</th>\n",
       "      <th>HPTC_SEL</th>\n",
       "      <th>LPTC_SEL</th>\n",
       "      <th>N1_SEL</th>\n",
       "      <th>N2_ACTSEL</th>\n",
       "      <th>OIL_P</th>\n",
       "      <th>OIL_TEMP</th>\n",
       "      <th>PS3_SEL</th>\n",
       "      <th>...</th>\n",
       "      <th>T25_SEL</th>\n",
       "      <th>T3_SEL</th>\n",
       "      <th>VBV_SEL</th>\n",
       "      <th>VIB_CN1</th>\n",
       "      <th>VIB_CN2</th>\n",
       "      <th>VIB_TN1</th>\n",
       "      <th>VIB_TN2</th>\n",
       "      <th>VSV_SEL</th>\n",
       "      <th>WFM_SEL</th>\n",
       "      <th>XM</th>\n",
       "    </tr>\n",
       "    <tr>\n",
       "      <th>t</th>\n",
       "      <th></th>\n",
       "      <th></th>\n",
       "      <th></th>\n",
       "      <th></th>\n",
       "      <th></th>\n",
       "      <th></th>\n",
       "      <th></th>\n",
       "      <th></th>\n",
       "      <th></th>\n",
       "      <th></th>\n",
       "      <th></th>\n",
       "      <th></th>\n",
       "      <th></th>\n",
       "      <th></th>\n",
       "      <th></th>\n",
       "      <th></th>\n",
       "      <th></th>\n",
       "      <th></th>\n",
       "      <th></th>\n",
       "      <th></th>\n",
       "      <th></th>\n",
       "    </tr>\n",
       "  </thead>\n",
       "  <tbody>\n",
       "    <tr>\n",
       "      <th>2011-09-15 14:25:58.125</th>\n",
       "      <td>NaN</td>\n",
       "      <td>NaN</td>\n",
       "      <td>NaN</td>\n",
       "      <td>NaN</td>\n",
       "      <td>NaN</td>\n",
       "      <td>NaN</td>\n",
       "      <td>0.0</td>\n",
       "      <td>NaN</td>\n",
       "      <td>NaN</td>\n",
       "      <td>NaN</td>\n",
       "      <td>...</td>\n",
       "      <td>NaN</td>\n",
       "      <td>NaN</td>\n",
       "      <td>NaN</td>\n",
       "      <td>NaN</td>\n",
       "      <td>NaN</td>\n",
       "      <td>NaN</td>\n",
       "      <td>NaN</td>\n",
       "      <td>NaN</td>\n",
       "      <td>NaN</td>\n",
       "      <td>NaN</td>\n",
       "    </tr>\n",
       "    <tr>\n",
       "      <th>2011-09-15 14:25:58.375</th>\n",
       "      <td>NaN</td>\n",
       "      <td>NaN</td>\n",
       "      <td>NaN</td>\n",
       "      <td>NaN</td>\n",
       "      <td>NaN</td>\n",
       "      <td>NaN</td>\n",
       "      <td>0.0</td>\n",
       "      <td>NaN</td>\n",
       "      <td>NaN</td>\n",
       "      <td>NaN</td>\n",
       "      <td>...</td>\n",
       "      <td>NaN</td>\n",
       "      <td>NaN</td>\n",
       "      <td>NaN</td>\n",
       "      <td>NaN</td>\n",
       "      <td>NaN</td>\n",
       "      <td>NaN</td>\n",
       "      <td>NaN</td>\n",
       "      <td>NaN</td>\n",
       "      <td>NaN</td>\n",
       "      <td>NaN</td>\n",
       "    </tr>\n",
       "    <tr>\n",
       "      <th>2011-09-15 14:25:58.625</th>\n",
       "      <td>NaN</td>\n",
       "      <td>NaN</td>\n",
       "      <td>NaN</td>\n",
       "      <td>NaN</td>\n",
       "      <td>NaN</td>\n",
       "      <td>NaN</td>\n",
       "      <td>0.0</td>\n",
       "      <td>NaN</td>\n",
       "      <td>NaN</td>\n",
       "      <td>NaN</td>\n",
       "      <td>...</td>\n",
       "      <td>NaN</td>\n",
       "      <td>NaN</td>\n",
       "      <td>NaN</td>\n",
       "      <td>NaN</td>\n",
       "      <td>NaN</td>\n",
       "      <td>NaN</td>\n",
       "      <td>NaN</td>\n",
       "      <td>NaN</td>\n",
       "      <td>NaN</td>\n",
       "      <td>NaN</td>\n",
       "    </tr>\n",
       "    <tr>\n",
       "      <th>2011-09-15 14:25:58.875</th>\n",
       "      <td>NaN</td>\n",
       "      <td>NaN</td>\n",
       "      <td>NaN</td>\n",
       "      <td>NaN</td>\n",
       "      <td>NaN</td>\n",
       "      <td>NaN</td>\n",
       "      <td>0.0</td>\n",
       "      <td>NaN</td>\n",
       "      <td>NaN</td>\n",
       "      <td>NaN</td>\n",
       "      <td>...</td>\n",
       "      <td>NaN</td>\n",
       "      <td>NaN</td>\n",
       "      <td>NaN</td>\n",
       "      <td>NaN</td>\n",
       "      <td>NaN</td>\n",
       "      <td>NaN</td>\n",
       "      <td>NaN</td>\n",
       "      <td>NaN</td>\n",
       "      <td>7679.98</td>\n",
       "      <td>0.15</td>\n",
       "    </tr>\n",
       "    <tr>\n",
       "      <th>2011-09-15 14:25:59.125</th>\n",
       "      <td>NaN</td>\n",
       "      <td>NaN</td>\n",
       "      <td>NaN</td>\n",
       "      <td>NaN</td>\n",
       "      <td>NaN</td>\n",
       "      <td>0.0</td>\n",
       "      <td>0.0</td>\n",
       "      <td>647.998</td>\n",
       "      <td>NaN</td>\n",
       "      <td>575.982</td>\n",
       "      <td>...</td>\n",
       "      <td>NaN</td>\n",
       "      <td>NaN</td>\n",
       "      <td>0.0</td>\n",
       "      <td>0.0</td>\n",
       "      <td>0.0</td>\n",
       "      <td>0.0</td>\n",
       "      <td>0.0</td>\n",
       "      <td>0.0</td>\n",
       "      <td>4607.86</td>\n",
       "      <td>0.15</td>\n",
       "    </tr>\n",
       "  </tbody>\n",
       "</table>\n",
       "<p>5 rows × 25 columns</p>\n",
       "</div>"
      ],
      "text/plain": [
       "                         EGT_SEL  FLIGHT_MOD  FMV_SEL  HPTC_SEL  LPTC_SEL  \\\n",
       "t                                                                           \n",
       "2011-09-15 14:25:58.125      NaN         NaN      NaN       NaN       NaN   \n",
       "2011-09-15 14:25:58.375      NaN         NaN      NaN       NaN       NaN   \n",
       "2011-09-15 14:25:58.625      NaN         NaN      NaN       NaN       NaN   \n",
       "2011-09-15 14:25:58.875      NaN         NaN      NaN       NaN       NaN   \n",
       "2011-09-15 14:25:59.125      NaN         NaN      NaN       NaN       NaN   \n",
       "\n",
       "                         N1_SEL  N2_ACTSEL    OIL_P  OIL_TEMP  PS3_SEL  ...  \\\n",
       "t                                                                       ...   \n",
       "2011-09-15 14:25:58.125     NaN        0.0      NaN       NaN      NaN  ...   \n",
       "2011-09-15 14:25:58.375     NaN        0.0      NaN       NaN      NaN  ...   \n",
       "2011-09-15 14:25:58.625     NaN        0.0      NaN       NaN      NaN  ...   \n",
       "2011-09-15 14:25:58.875     NaN        0.0      NaN       NaN      NaN  ...   \n",
       "2011-09-15 14:25:59.125     0.0        0.0  647.998       NaN  575.982  ...   \n",
       "\n",
       "                         T25_SEL  T3_SEL  VBV_SEL  VIB_CN1  VIB_CN2  VIB_TN1  \\\n",
       "t                                                                              \n",
       "2011-09-15 14:25:58.125      NaN     NaN      NaN      NaN      NaN      NaN   \n",
       "2011-09-15 14:25:58.375      NaN     NaN      NaN      NaN      NaN      NaN   \n",
       "2011-09-15 14:25:58.625      NaN     NaN      NaN      NaN      NaN      NaN   \n",
       "2011-09-15 14:25:58.875      NaN     NaN      NaN      NaN      NaN      NaN   \n",
       "2011-09-15 14:25:59.125      NaN     NaN      0.0      0.0      0.0      0.0   \n",
       "\n",
       "                         VIB_TN2  VSV_SEL  WFM_SEL    XM  \n",
       "t                                                         \n",
       "2011-09-15 14:25:58.125      NaN      NaN      NaN   NaN  \n",
       "2011-09-15 14:25:58.375      NaN      NaN      NaN   NaN  \n",
       "2011-09-15 14:25:58.625      NaN      NaN      NaN   NaN  \n",
       "2011-09-15 14:25:58.875      NaN      NaN  7679.98  0.15  \n",
       "2011-09-15 14:25:59.125      0.0      0.0  4607.86  0.15  \n",
       "\n",
       "[5 rows x 25 columns]"
      ]
     },
     "execution_count": 78,
     "metadata": {},
     "output_type": "execute_result"
    }
   ],
   "source": [
    "\"\"\"\n",
    "Exercice - Index temporel\n",
    "Comme nos données sont une série temporelle multivariée, on souhaite utiliser un index temporel.\n",
    "1. Créez une copie de df, appelée df2, à l'aide de la méthode du même nom.\n",
    "2. Affectez la colonne du temps ('t') en tant qu'indice du DataFrame.\n",
    "3. Supprimez la colonne 't' du DF résultant.\n",
    "\"\"\"\n",
    "df2=df.copy()\n",
    "df2.index=df2['t']\n",
    "df2=df2.drop(['t'],axis=1)\n",
    "df2.head()\n",
    "#raise NotImplementedError"
   ]
  },
  {
   "cell_type": "markdown",
   "id": "530e705f-fdd8-4e57-8722-1422776e66df",
   "metadata": {},
   "source": [
    "On constate que pandas a automatiquement reconnu un DatetimeIndex, adapté pour des manipulations de séries temporelles (moyennes glissantes, etc) !"
   ]
  },
  {
   "cell_type": "markdown",
   "id": "43c8c918-2fde-4d9b-937f-451a5aeaabcc",
   "metadata": {},
   "source": [
    "### Valeurs manquantes\n",
    "\n",
    "**NaN = Not a Number**\n",
    "\n",
    "Les valeurs NaN doivent être éliminées ou imputées (i.e. remplacées par une certaine valeur) avant la suite des traitements. Ce choix dépend du cas d'usage. Dans un premier temps, nous allons apprendre à :\n",
    "\n",
    "* trouver les données manquantes (méthode `isna`)\n",
    "* éliminer les données manquantes d'un DataFrame (méthode `dropna`)\n",
    "* les remplacer par une constante (méthode (`fillna`)"
   ]
  },
  {
   "cell_type": "code",
   "execution_count": 79,
   "id": "3deacff6-4491-408c-bf15-8ae3da78f2c2",
   "metadata": {},
   "outputs": [
    {
     "data": {
      "text/plain": [
       "\"\\nEXERCICE - La méthode isna\\n1. Testez la méthode isna sur le DataFrame df2, puis sur une colonne ou une ligne. Que renvoie-t-elle ?\\n2. En appliquant les méthodes any(axis=...), mean() et max()/idxmax() sur les résultats de isna(), répondez aux questions suivantes :\\n    2.1 Quelles colonnes contiennent des valeurs manquantes, lesquelles n'en contiennent pas ?\\n    2.2 Quel est le pourcentage de valeurs manquantes dans le DF (a) par colonne (b) globalement ? Quelle variable contient le plus de NaN ?\\n    2.3 Quel est le pourcentage d'indices du DF pour lesquels toutes les variables sont présentes ?\\n\""
      ]
     },
     "execution_count": 79,
     "metadata": {},
     "output_type": "execute_result"
    }
   ],
   "source": [
    "\"\"\"\n",
    "EXERCICE - La méthode isna\n",
    "1. Testez la méthode isna sur le DataFrame df2, puis sur une colonne ou une ligne. Que renvoie-t-elle ?\n",
    "2. En appliquant les méthodes any(axis=...), mean() et max()/idxmax() sur les résultats de isna(), répondez aux questions suivantes :\n",
    "    2.1 Quelles colonnes contiennent des valeurs manquantes, lesquelles n'en contiennent pas ?\n",
    "    2.2 Quel est le pourcentage de valeurs manquantes dans le DF (a) par colonne (b) globalement ? Quelle variable contient le plus de NaN ?\n",
    "    2.3 Quel est le pourcentage d'indices du DF pour lesquels toutes les variables sont présentes ?\n",
    "\"\"\"\n",
    "\n"
   ]
  },
  {
   "cell_type": "code",
   "execution_count": 80,
   "id": "ff418ed1",
   "metadata": {},
   "outputs": [
    {
     "name": "stdout",
     "output_type": "stream",
     "text": [
      "                         EGT_SEL  FLIGHT_MOD  FMV_SEL  HPTC_SEL  LPTC_SEL  \\\n",
      "t                                                                           \n",
      "2011-09-15 14:25:58.125     True        True     True      True      True   \n",
      "2011-09-15 14:25:58.375     True        True     True      True      True   \n",
      "2011-09-15 14:25:58.625     True        True     True      True      True   \n",
      "2011-09-15 14:25:58.875     True        True     True      True      True   \n",
      "2011-09-15 14:25:59.125     True        True     True      True      True   \n",
      "...                          ...         ...      ...       ...       ...   \n",
      "2011-09-15 16:01:32.875     True        True     True      True      True   \n",
      "2011-09-15 16:01:33.125     True        True     True      True      True   \n",
      "2011-09-15 16:01:33.375     True        True     True      True      True   \n",
      "2011-09-15 16:01:33.625     True        True     True      True      True   \n",
      "2011-09-15 16:01:33.875     True        True     True      True      True   \n",
      "\n",
      "                         N1_SEL  N2_ACTSEL  OIL_P  OIL_TEMP  PS3_SEL  ...  \\\n",
      "t                                                                     ...   \n",
      "2011-09-15 14:25:58.125    True      False   True      True     True  ...   \n",
      "2011-09-15 14:25:58.375    True      False   True      True     True  ...   \n",
      "2011-09-15 14:25:58.625    True      False   True      True     True  ...   \n",
      "2011-09-15 14:25:58.875    True      False   True      True     True  ...   \n",
      "2011-09-15 14:25:59.125   False      False  False      True    False  ...   \n",
      "...                         ...        ...    ...       ...      ...  ...   \n",
      "2011-09-15 16:01:32.875    True       True   True      True     True  ...   \n",
      "2011-09-15 16:01:33.125    True       True   True      True     True  ...   \n",
      "2011-09-15 16:01:33.375    True       True   True      True     True  ...   \n",
      "2011-09-15 16:01:33.625    True       True   True      True     True  ...   \n",
      "2011-09-15 16:01:33.875    True       True   True      True     True  ...   \n",
      "\n",
      "                         T25_SEL  T3_SEL  VBV_SEL  VIB_CN1  VIB_CN2  VIB_TN1  \\\n",
      "t                                                                              \n",
      "2011-09-15 14:25:58.125     True    True     True     True     True     True   \n",
      "2011-09-15 14:25:58.375     True    True     True     True     True     True   \n",
      "2011-09-15 14:25:58.625     True    True     True     True     True     True   \n",
      "2011-09-15 14:25:58.875     True    True     True     True     True     True   \n",
      "2011-09-15 14:25:59.125     True    True    False    False    False    False   \n",
      "...                          ...     ...      ...      ...      ...      ...   \n",
      "2011-09-15 16:01:32.875     True    True     True     True     True     True   \n",
      "2011-09-15 16:01:33.125     True    True     True     True     True     True   \n",
      "2011-09-15 16:01:33.375     True    True     True     True     True     True   \n",
      "2011-09-15 16:01:33.625     True    True     True     True     True     True   \n",
      "2011-09-15 16:01:33.875     True    True     True     True     True     True   \n",
      "\n",
      "                         VIB_TN2  VSV_SEL  WFM_SEL     XM  \n",
      "t                                                          \n",
      "2011-09-15 14:25:58.125     True     True     True   True  \n",
      "2011-09-15 14:25:58.375     True     True     True   True  \n",
      "2011-09-15 14:25:58.625     True     True     True   True  \n",
      "2011-09-15 14:25:58.875     True     True    False  False  \n",
      "2011-09-15 14:25:59.125    False    False    False  False  \n",
      "...                          ...      ...      ...    ...  \n",
      "2011-09-15 16:01:32.875     True     True     True   True  \n",
      "2011-09-15 16:01:33.125     True     True     True   True  \n",
      "2011-09-15 16:01:33.375     True     True     True   True  \n",
      "2011-09-15 16:01:33.625     True     True     True   True  \n",
      "2011-09-15 16:01:33.875     True     True     True   True  \n",
      "\n",
      "[22944 rows x 25 columns]\n"
     ]
    }
   ],
   "source": [
    "print(df2.isna())"
   ]
  },
  {
   "cell_type": "code",
   "execution_count": 81,
   "id": "5cf10aa5",
   "metadata": {},
   "outputs": [
    {
     "name": "stdout",
     "output_type": "stream",
     "text": [
      "[ True  True  True  True  True  True False  True  True  True  True  True\n",
      "  True  True  True  True  True  True  True  True  True  True  True  True\n",
      "  True]\n"
     ]
    }
   ],
   "source": [
    "print(pd.isna(df2.values[1]))"
   ]
  },
  {
   "cell_type": "code",
   "execution_count": 82,
   "id": "4fe551a8",
   "metadata": {},
   "outputs": [
    {
     "name": "stdout",
     "output_type": "stream",
     "text": [
      "[ True  True  True  True  True False False False  True False  True  True\n",
      " False False False  True  True False False False False False False False\n",
      " False]\n"
     ]
    }
   ],
   "source": [
    "print(pd.isna(df2.values[:][4]))"
   ]
  },
  {
   "cell_type": "markdown",
   "id": "4b74c8dd",
   "metadata": {},
   "source": [
    "Elle renvoie un booleen (True s'il y a des Nan False sinon)"
   ]
  },
  {
   "cell_type": "code",
   "execution_count": 83,
   "id": "17d0f7e4",
   "metadata": {},
   "outputs": [
    {
     "name": "stdout",
     "output_type": "stream",
     "text": [
      "Question 2.1\n",
      "EGT_SEL       False\n",
      "FLIGHT_MOD    False\n",
      "FMV_SEL       False\n",
      "HPTC_SEL      False\n",
      "LPTC_SEL      False\n",
      "N1_SEL        False\n",
      "N2_ACTSEL     False\n",
      "OIL_P         False\n",
      "OIL_TEMP      False\n",
      "PS3_SEL       False\n",
      "PT2_SEL       False\n",
      "P0_SEL        False\n",
      "TAT           False\n",
      "TBV_SEL       False\n",
      "TRA_SEL       False\n",
      "T25_SEL       False\n",
      "T3_SEL        False\n",
      "VBV_SEL       False\n",
      "VIB_CN1       False\n",
      "VIB_CN2       False\n",
      "VIB_TN1       False\n",
      "VIB_TN2       False\n",
      "VSV_SEL       False\n",
      "WFM_SEL       False\n",
      "XM            False\n",
      "dtype: bool\n"
     ]
    }
   ],
   "source": [
    "print('Question 2.1')\n",
    "#raise NotImplementedError\n",
    "print(df2.isna().all())"
   ]
  },
  {
   "cell_type": "code",
   "execution_count": 84,
   "id": "95acfd5c",
   "metadata": {},
   "outputs": [
    {
     "name": "stdout",
     "output_type": "stream",
     "text": [
      "Question 2.2\n",
      "Le pourcentage de valeurs manquantes dans le DF par colonne est  EGT_SEL       0.348675\n",
      "FLIGHT_MOD    0.444561\n",
      "FMV_SEL       0.444561\n",
      "HPTC_SEL      0.422768\n",
      "LPTC_SEL      0.457636\n",
      "N1_SEL        0.418410\n",
      "N2_ACTSEL     0.252789\n",
      "OIL_P         0.379184\n",
      "OIL_TEMP      0.383543\n",
      "PS3_SEL       0.300732\n",
      "PT2_SEL       0.370467\n",
      "P0_SEL        0.370467\n",
      "TAT           0.300732\n",
      "TBV_SEL       0.296374\n",
      "TRA_SEL       0.300732\n",
      "T25_SEL       0.470711\n",
      "T3_SEL        0.470711\n",
      "VBV_SEL       0.292015\n",
      "VIB_CN1       0.292015\n",
      "VIB_CN2       0.283298\n",
      "VIB_TN1       0.283298\n",
      "VIB_TN2       0.283298\n",
      "VSV_SEL       0.274582\n",
      "WFM_SEL       0.270223\n",
      "XM            0.261506\n",
      "dtype: float64\n",
      "Le pourcentage de valeurs manquantes dans le DF globalement est  0.346931659693166\n",
      "La variable qui contient le plus de Nan est :  T25_SEL\n"
     ]
    }
   ],
   "source": [
    "print('Question 2.2')\n",
    "print(\"Le pourcentage de valeurs manquantes dans le DF par colonne est \",df2.isna().mean()*100)\n",
    "print(\"Le pourcentage de valeurs manquantes dans le DF globalement est \",df2.isna().mean().mean()*100)\n",
    "print(\"La variable qui contient le plus de Nan est : \",df2.isna().mean().idxmax())\n",
    "#raise NotImplementedError"
   ]
  },
  {
   "cell_type": "code",
   "execution_count": 85,
   "id": "7bd677ce",
   "metadata": {},
   "outputs": [
    {
     "name": "stdout",
     "output_type": "stream",
     "text": [
      "Question 2.3\n"
     ]
    }
   ],
   "source": [
    "print('Question 2.3')\n",
    "#raise NotImplementedError"
   ]
  },
  {
   "cell_type": "code",
   "execution_count": 86,
   "id": "2b24c3a9-6cbc-4c11-93d3-5d6a5e5b0b3f",
   "metadata": {},
   "outputs": [
    {
     "data": {
      "text/plain": [
       "'\\nEXERCICE - La méthode dropna\\nLa méthode dropna permet d\\'éliminer les valeurs manquantes (NaN). Lisez d\\'abord sa documentation.\\n1. À quoi correspondent les arguments \"axis\" et \"how\" ?\\n2. Éliminez toutes les lignes contenant uniquement des valeurs manquantes.\\n3. Éliminez toutes les lignes contenant au moins une valeur manquante. Combien y a-t-il de lignes de différence ?\\n4. Éliminez toutes les colonnes contenant au moins une valeur manquante.\\n'"
      ]
     },
     "execution_count": 86,
     "metadata": {},
     "output_type": "execute_result"
    }
   ],
   "source": [
    "\"\"\"\n",
    "EXERCICE - La méthode dropna\n",
    "La méthode dropna permet d'éliminer les valeurs manquantes (NaN). Lisez d'abord sa documentation.\n",
    "1. À quoi correspondent les arguments \"axis\" et \"how\" ?\n",
    "2. Éliminez toutes les lignes contenant uniquement des valeurs manquantes.\n",
    "3. Éliminez toutes les lignes contenant au moins une valeur manquante. Combien y a-t-il de lignes de différence ?\n",
    "4. Éliminez toutes les colonnes contenant au moins une valeur manquante.\n",
    "\"\"\"\n",
    "\n",
    "\n",
    "#raise NotImplementedError"
   ]
  },
  {
   "cell_type": "markdown",
   "id": "59452a3e",
   "metadata": {},
   "source": [
    "Question 1 \n",
    "\n",
    "Axis correspond à la ligne (axis=0) ou colonne (axis=1)\n",
    "\n",
    "how correspond si la ligne ou colonne correspondant contient que des Nan (how=all) ou s'il existe un Nan (how=any)"
   ]
  },
  {
   "cell_type": "code",
   "execution_count": 87,
   "id": "ae0214da",
   "metadata": {},
   "outputs": [
    {
     "name": "stdout",
     "output_type": "stream",
     "text": [
      "Question 2\n",
      "                         EGT_SEL  FLIGHT_MOD  FMV_SEL  HPTC_SEL  LPTC_SEL  \\\n",
      "t                                                                           \n",
      "2011-09-15 14:25:58.125      NaN         NaN      NaN       NaN       NaN   \n",
      "2011-09-15 14:25:58.375      NaN         NaN      NaN       NaN       NaN   \n",
      "2011-09-15 14:25:58.625      NaN         NaN      NaN       NaN       NaN   \n",
      "2011-09-15 14:25:58.875      NaN         NaN      NaN       NaN       NaN   \n",
      "2011-09-15 14:25:59.125      NaN         NaN      NaN       NaN       NaN   \n",
      "...                          ...         ...      ...       ...       ...   \n",
      "2011-09-15 16:01:23.625      NaN         NaN      NaN       NaN       NaN   \n",
      "2011-09-15 16:01:23.875      NaN         NaN      NaN       NaN       NaN   \n",
      "2011-09-15 16:01:24.125      NaN         NaN      NaN       NaN       NaN   \n",
      "2011-09-15 16:01:24.375      NaN         NaN      NaN       NaN       NaN   \n",
      "2011-09-15 16:01:24.625      NaN         NaN      NaN       NaN       NaN   \n",
      "\n",
      "                         N1_SEL  N2_ACTSEL    OIL_P  OIL_TEMP  PS3_SEL  ...  \\\n",
      "t                                                                       ...   \n",
      "2011-09-15 14:25:58.125     NaN        0.0      NaN       NaN      NaN  ...   \n",
      "2011-09-15 14:25:58.375     NaN        0.0      NaN       NaN      NaN  ...   \n",
      "2011-09-15 14:25:58.625     NaN        0.0      NaN       NaN      NaN  ...   \n",
      "2011-09-15 14:25:58.875     NaN        0.0      NaN       NaN      NaN  ...   \n",
      "2011-09-15 14:25:59.125     0.0        0.0  647.998       NaN  575.982  ...   \n",
      "...                         ...        ...      ...       ...      ...  ...   \n",
      "2011-09-15 16:01:23.625     NaN        0.0      NaN       NaN      NaN  ...   \n",
      "2011-09-15 16:01:23.875     NaN        0.0      NaN       NaN      NaN  ...   \n",
      "2011-09-15 16:01:24.125     NaN        NaN      NaN       NaN      NaN  ...   \n",
      "2011-09-15 16:01:24.375     NaN        NaN      NaN       NaN      NaN  ...   \n",
      "2011-09-15 16:01:24.625     NaN        NaN      NaN       NaN      NaN  ...   \n",
      "\n",
      "                         T25_SEL  T3_SEL  VBV_SEL  VIB_CN1  VIB_CN2  VIB_TN1  \\\n",
      "t                                                                              \n",
      "2011-09-15 14:25:58.125      NaN     NaN      NaN      NaN      NaN      NaN   \n",
      "2011-09-15 14:25:58.375      NaN     NaN      NaN      NaN      NaN      NaN   \n",
      "2011-09-15 14:25:58.625      NaN     NaN      NaN      NaN      NaN      NaN   \n",
      "2011-09-15 14:25:58.875      NaN     NaN      NaN      NaN      NaN      NaN   \n",
      "2011-09-15 14:25:59.125      NaN     NaN      0.0      0.0      0.0      0.0   \n",
      "...                          ...     ...      ...      ...      ...      ...   \n",
      "2011-09-15 16:01:23.625      NaN     NaN      0.0      0.0      0.0      0.0   \n",
      "2011-09-15 16:01:23.875      NaN     NaN      0.0      0.0      0.0      0.0   \n",
      "2011-09-15 16:01:24.125      NaN     NaN      NaN      NaN      0.0      0.0   \n",
      "2011-09-15 16:01:24.375      NaN     NaN      NaN      NaN      0.0      0.0   \n",
      "2011-09-15 16:01:24.625      NaN     NaN      NaN      NaN      NaN      NaN   \n",
      "\n",
      "                         VIB_TN2  VSV_SEL      WFM_SEL    XM  \n",
      "t                                                             \n",
      "2011-09-15 14:25:58.125      NaN      NaN          NaN   NaN  \n",
      "2011-09-15 14:25:58.375      NaN      NaN          NaN   NaN  \n",
      "2011-09-15 14:25:58.625      NaN      NaN          NaN   NaN  \n",
      "2011-09-15 14:25:58.875      NaN      NaN  7679.980000  0.15  \n",
      "2011-09-15 14:25:59.125      0.0      0.0  4607.860000  0.15  \n",
      "...                          ...      ...          ...   ...  \n",
      "2011-09-15 16:01:23.625      0.0      0.0     0.008331  0.15  \n",
      "2011-09-15 16:01:23.875      0.0      0.0     0.000000  0.15  \n",
      "2011-09-15 16:01:24.125      0.0      0.0     0.000000  0.15  \n",
      "2011-09-15 16:01:24.375      0.0      0.0     0.000000  0.15  \n",
      "2011-09-15 16:01:24.625      NaN      0.0          NaN  0.15  \n",
      "\n",
      "[22889 rows x 25 columns]\n"
     ]
    }
   ],
   "source": [
    "print(\"Question 2\")\n",
    "print(df2.dropna(how=\"all\"))"
   ]
  },
  {
   "cell_type": "code",
   "execution_count": 88,
   "id": "1103a483",
   "metadata": {},
   "outputs": [
    {
     "name": "stdout",
     "output_type": "stream",
     "text": [
      "Question 3\n",
      "                          EGT_SEL  FLIGHT_MOD  FMV_SEL  HPTC_SEL  LPTC_SEL  \\\n",
      "t                                                                            \n",
      "2011-09-15 14:26:02.875  335.9840         1.0    0.000       0.0       0.0   \n",
      "2011-09-15 14:26:03.125  239.9860         1.0    0.000       0.0       0.0   \n",
      "2011-09-15 14:26:03.375  167.9910         1.0    0.000       0.0       0.0   \n",
      "2011-09-15 14:26:03.625  119.9940         1.0    0.000       0.0       0.0   \n",
      "2011-09-15 14:26:03.875   72.0011         1.0    0.000       0.0       0.0   \n",
      "...                           ...         ...      ...       ...       ...   \n",
      "2011-09-15 16:01:19.875  230.8250         1.0  -12.375       0.0       0.0   \n",
      "2011-09-15 16:01:20.125  137.4770         1.0  -12.375       0.0       0.0   \n",
      "2011-09-15 16:01:20.375  113.4530         1.0  -12.375       0.0       0.0   \n",
      "2011-09-15 16:01:20.625  158.8080         1.0  -12.375       0.0       0.0   \n",
      "2011-09-15 16:01:20.875  204.1800         1.0  -12.375       0.0       0.0   \n",
      "\n",
      "                         N1_SEL  N2_ACTSEL  OIL_P  OIL_TEMP    PS3_SEL  ...  \\\n",
      "t                                                                       ...   \n",
      "2011-09-15 14:26:02.875     0.0        0.0    0.0  177.3740  959.98000  ...   \n",
      "2011-09-15 14:26:03.125     0.0        0.0    0.0  133.6240  575.98200  ...   \n",
      "2011-09-15 14:26:03.375     0.0        0.0    0.0   89.8743  191.98400  ...   \n",
      "2011-09-15 14:26:03.625     0.0        0.0    0.0   68.0000    0.00000  ...   \n",
      "2011-09-15 14:26:03.875     0.0        0.0    0.0   68.0000    0.00000  ...   \n",
      "...                         ...        ...    ...       ...        ...  ...   \n",
      "2011-09-15 16:01:19.875     0.0        0.0    0.0   69.0000    7.50011  ...   \n",
      "2011-09-15 16:01:20.125     0.0        0.0    0.0   69.0000    4.50085  ...   \n",
      "2011-09-15 16:01:20.375     0.0        0.0    0.0   69.0000    1.50063  ...   \n",
      "2011-09-15 16:01:20.625     0.0        0.0    0.0   69.0000    1.50005  ...   \n",
      "2011-09-15 16:01:20.875     0.0        0.0    0.0   69.0000    4.49975  ...   \n",
      "\n",
      "                         T25_SEL  T3_SEL  VBV_SEL  VIB_CN1  VIB_CN2  VIB_TN1  \\\n",
      "t                                                                              \n",
      "2011-09-15 14:26:02.875   -128.0     0.0      0.0      0.0      0.0      0.0   \n",
      "2011-09-15 14:26:03.125   -128.0     0.0      0.0      0.0      0.0      0.0   \n",
      "2011-09-15 14:26:03.375   -128.0     0.0      0.0      0.0      0.0      0.0   \n",
      "2011-09-15 14:26:03.625   -128.0     0.0      0.0      0.0      0.0      0.0   \n",
      "2011-09-15 14:26:03.875   -128.0     0.0      0.0      0.0      0.0      0.0   \n",
      "...                          ...     ...      ...      ...      ...      ...   \n",
      "2011-09-15 16:01:19.875     34.5   178.0      0.0      0.0      0.0      0.0   \n",
      "2011-09-15 16:01:20.125     34.5   178.0      0.0      0.0      0.0      0.0   \n",
      "2011-09-15 16:01:20.375     34.5   178.0      0.0      0.0      0.0      0.0   \n",
      "2011-09-15 16:01:20.625     34.5   178.0      0.0      0.0      0.0      0.0   \n",
      "2011-09-15 16:01:20.875     34.5   178.0      0.0      0.0      0.0      0.0   \n",
      "\n",
      "                         VIB_TN2  VSV_SEL  WFM_SEL    XM  \n",
      "t                                                         \n",
      "2011-09-15 14:26:02.875      0.0      0.0  7679.84  0.15  \n",
      "2011-09-15 14:26:03.125      0.0      0.0  4607.86  0.15  \n",
      "2011-09-15 14:26:03.375      0.0      0.0  1535.87  0.15  \n",
      "2011-09-15 14:26:03.625      0.0      0.0     0.00  0.15  \n",
      "2011-09-15 14:26:03.875      0.0      0.0     0.00  0.15  \n",
      "...                          ...      ...      ...   ...  \n",
      "2011-09-15 16:01:19.875      0.0      0.0     0.00  0.15  \n",
      "2011-09-15 16:01:20.125      0.0      0.0     0.00  0.15  \n",
      "2011-09-15 16:01:20.375      0.0      0.0     0.00  0.15  \n",
      "2011-09-15 16:01:20.625      0.0      0.0     0.00  0.15  \n",
      "2011-09-15 16:01:20.875      0.0      0.0     0.00  0.15  \n",
      "\n",
      "[22825 rows x 25 columns]\n",
      "119\n"
     ]
    }
   ],
   "source": [
    "print(\"Question 3\")\n",
    "print(df2.dropna(how=\"any\"))\n",
    "print(len(df2.axes[0])-len(df2.dropna(how=\"any\").axes[0]))"
   ]
  },
  {
   "cell_type": "code",
   "execution_count": 89,
   "id": "3a990754",
   "metadata": {},
   "outputs": [
    {
     "name": "stdout",
     "output_type": "stream",
     "text": [
      "Question 4\n",
      "Empty DataFrame\n",
      "Columns: []\n",
      "Index: [2011-09-15 14:25:58.125000, 2011-09-15 14:25:58.375000, 2011-09-15 14:25:58.625000, 2011-09-15 14:25:58.875000, 2011-09-15 14:25:59.125000, 2011-09-15 14:25:59.375000, 2011-09-15 14:25:59.625000, 2011-09-15 14:25:59.875000, 2011-09-15 14:26:00.125000, 2011-09-15 14:26:00.375000, 2011-09-15 14:26:00.625000, 2011-09-15 14:26:00.875000, 2011-09-15 14:26:01.125000, 2011-09-15 14:26:01.375000, 2011-09-15 14:26:01.625000, 2011-09-15 14:26:01.875000, 2011-09-15 14:26:02.125000, 2011-09-15 14:26:02.375000, 2011-09-15 14:26:02.625000, 2011-09-15 14:26:02.875000, 2011-09-15 14:26:03.125000, 2011-09-15 14:26:03.375000, 2011-09-15 14:26:03.625000, 2011-09-15 14:26:03.875000, 2011-09-15 14:26:04.125000, 2011-09-15 14:26:04.375000, 2011-09-15 14:26:04.625000, 2011-09-15 14:26:04.875000, 2011-09-15 14:26:05.125000, 2011-09-15 14:26:05.375000, 2011-09-15 14:26:05.625000, 2011-09-15 14:26:05.875000, 2011-09-15 14:26:06.125000, 2011-09-15 14:26:06.375000, 2011-09-15 14:26:06.625000, 2011-09-15 14:26:06.875000, 2011-09-15 14:26:07.125000, 2011-09-15 14:26:07.375000, 2011-09-15 14:26:07.625000, 2011-09-15 14:26:07.875000, 2011-09-15 14:26:08.125000, 2011-09-15 14:26:08.375000, 2011-09-15 14:26:08.625000, 2011-09-15 14:26:08.875000, 2011-09-15 14:26:09.125000, 2011-09-15 14:26:09.375000, 2011-09-15 14:26:09.625000, 2011-09-15 14:26:09.875000, 2011-09-15 14:26:10.125000, 2011-09-15 14:26:10.375000, 2011-09-15 14:26:10.625000, 2011-09-15 14:26:10.875000, 2011-09-15 14:26:11.125000, 2011-09-15 14:26:11.375000, 2011-09-15 14:26:11.625000, 2011-09-15 14:26:11.875000, 2011-09-15 14:26:12.125000, 2011-09-15 14:26:12.375000, 2011-09-15 14:26:12.625000, 2011-09-15 14:26:12.875000, 2011-09-15 14:26:13.125000, 2011-09-15 14:26:13.375000, 2011-09-15 14:26:13.625000, 2011-09-15 14:26:13.875000, 2011-09-15 14:26:14.125000, 2011-09-15 14:26:14.375000, 2011-09-15 14:26:14.625000, 2011-09-15 14:26:14.875000, 2011-09-15 14:26:15.125000, 2011-09-15 14:26:15.375000, 2011-09-15 14:26:15.625000, 2011-09-15 14:26:15.875000, 2011-09-15 14:26:16.125000, 2011-09-15 14:26:16.375000, 2011-09-15 14:26:16.625000, 2011-09-15 14:26:16.875000, 2011-09-15 14:26:17.125000, 2011-09-15 14:26:17.375000, 2011-09-15 14:26:17.625000, 2011-09-15 14:26:17.875000, 2011-09-15 14:26:18.125000, 2011-09-15 14:26:18.375000, 2011-09-15 14:26:18.625000, 2011-09-15 14:26:18.875000, 2011-09-15 14:26:19.125000, 2011-09-15 14:26:19.375000, 2011-09-15 14:26:19.625000, 2011-09-15 14:26:19.875000, 2011-09-15 14:26:20.125000, 2011-09-15 14:26:20.375000, 2011-09-15 14:26:20.625000, 2011-09-15 14:26:20.875000, 2011-09-15 14:26:21.125000, 2011-09-15 14:26:21.375000, 2011-09-15 14:26:21.625000, 2011-09-15 14:26:21.875000, 2011-09-15 14:26:22.125000, 2011-09-15 14:26:22.375000, 2011-09-15 14:26:22.625000, 2011-09-15 14:26:22.875000, ...]\n",
      "\n",
      "[22944 rows x 0 columns]\n"
     ]
    }
   ],
   "source": [
    "print(\"Question 4\")\n",
    "print(df2.dropna(axis=1,how=\"any\"))"
   ]
  },
  {
   "cell_type": "code",
   "execution_count": 90,
   "id": "27ad1ce1-8659-4f37-b370-91da31eb2580",
   "metadata": {},
   "outputs": [
    {
     "name": "stderr",
     "output_type": "stream",
     "text": [
      "/var/folders/fl/71zh2c117r9f2nwvtqmpm3nm0000gn/T/ipykernel_95600/3612850933.py:12: FutureWarning: The pandas.np module is deprecated and will be removed from pandas in a future version. Import numpy directly instead.\n",
      "  exemple = pd.DataFrame({'nom': ['Alice', 'Bob', 'Charlie', 'David'], 'age': [24, pd.np.nan, 99, 24]})\n"
     ]
    }
   ],
   "source": [
    "\"\"\"\n",
    "EXERCICE - La méthode fillna\n",
    "La méthode dropna permet d'imputer les valeurs manquantes (NaN). Lisez d'abord sa documentation.\n",
    "1. Quelles sont les différentes stratégies de remplissage des valeurs manquantes ?\n",
    "2. Imputez les valeurs manquantes de la colonne age du DF donné en exemple par :\n",
    "    - 0\n",
    "    - la dernière valeur précédente/suivante valide\n",
    "    - la moyenne\n",
    "    - la valeur la plus courante (mode)\n",
    "3. Quel est le meilleur choix dans ce cas ? Et pour le cas d'une variable temporelle, par exemple la température 'EGT_SEL' de notre jeu de données ?\n",
    "\"\"\"\n",
    "exemple = pd.DataFrame({'nom': ['Alice', 'Bob', 'Charlie', 'David'], 'age': [24, pd.np.nan, 99, 24]})\n",
    "\n",
    "#raise NotImplementedError\n",
    "\n",
    "\n"
   ]
  },
  {
   "cell_type": "markdown",
   "id": "2e76366f",
   "metadata": {},
   "source": [
    "Question 1 \n",
    "\n",
    "Pour remplir les valeurs manquantes, on peut les remplir par des -1 ou $±\\infty$"
   ]
  },
  {
   "cell_type": "code",
   "execution_count": 91,
   "id": "e5e9a842",
   "metadata": {},
   "outputs": [
    {
     "name": "stdout",
     "output_type": "stream",
     "text": [
      "Question 2\n"
     ]
    },
    {
     "data": {
      "text/html": [
       "<div>\n",
       "<style scoped>\n",
       "    .dataframe tbody tr th:only-of-type {\n",
       "        vertical-align: middle;\n",
       "    }\n",
       "\n",
       "    .dataframe tbody tr th {\n",
       "        vertical-align: top;\n",
       "    }\n",
       "\n",
       "    .dataframe thead th {\n",
       "        text-align: right;\n",
       "    }\n",
       "</style>\n",
       "<table border=\"1\" class=\"dataframe\">\n",
       "  <thead>\n",
       "    <tr style=\"text-align: right;\">\n",
       "      <th></th>\n",
       "      <th>nom</th>\n",
       "      <th>age</th>\n",
       "    </tr>\n",
       "  </thead>\n",
       "  <tbody>\n",
       "    <tr>\n",
       "      <th>0</th>\n",
       "      <td>Alice</td>\n",
       "      <td>24.0</td>\n",
       "    </tr>\n",
       "    <tr>\n",
       "      <th>1</th>\n",
       "      <td>Bob</td>\n",
       "      <td>0.0</td>\n",
       "    </tr>\n",
       "    <tr>\n",
       "      <th>2</th>\n",
       "      <td>Charlie</td>\n",
       "      <td>99.0</td>\n",
       "    </tr>\n",
       "    <tr>\n",
       "      <th>3</th>\n",
       "      <td>David</td>\n",
       "      <td>24.0</td>\n",
       "    </tr>\n",
       "  </tbody>\n",
       "</table>\n",
       "</div>"
      ],
      "text/plain": [
       "       nom   age\n",
       "0    Alice  24.0\n",
       "1      Bob   0.0\n",
       "2  Charlie  99.0\n",
       "3    David  24.0"
      ]
     },
     "execution_count": 91,
     "metadata": {},
     "output_type": "execute_result"
    }
   ],
   "source": [
    "print(\"Question 2\")\n",
    "exemple.fillna(0)"
   ]
  },
  {
   "cell_type": "code",
   "execution_count": 92,
   "id": "27a3c193",
   "metadata": {},
   "outputs": [
    {
     "name": "stderr",
     "output_type": "stream",
     "text": [
      "/var/folders/fl/71zh2c117r9f2nwvtqmpm3nm0000gn/T/ipykernel_95600/166453065.py:1: FutureWarning: The default value of numeric_only in DataFrame.mean is deprecated. In a future version, it will default to False. In addition, specifying 'numeric_only=None' is deprecated. Select only valid columns or specify the value of numeric_only to silence this warning.\n",
      "  exemple.fillna(exemple.mean())\n"
     ]
    },
    {
     "data": {
      "text/html": [
       "<div>\n",
       "<style scoped>\n",
       "    .dataframe tbody tr th:only-of-type {\n",
       "        vertical-align: middle;\n",
       "    }\n",
       "\n",
       "    .dataframe tbody tr th {\n",
       "        vertical-align: top;\n",
       "    }\n",
       "\n",
       "    .dataframe thead th {\n",
       "        text-align: right;\n",
       "    }\n",
       "</style>\n",
       "<table border=\"1\" class=\"dataframe\">\n",
       "  <thead>\n",
       "    <tr style=\"text-align: right;\">\n",
       "      <th></th>\n",
       "      <th>nom</th>\n",
       "      <th>age</th>\n",
       "    </tr>\n",
       "  </thead>\n",
       "  <tbody>\n",
       "    <tr>\n",
       "      <th>0</th>\n",
       "      <td>Alice</td>\n",
       "      <td>24.0</td>\n",
       "    </tr>\n",
       "    <tr>\n",
       "      <th>1</th>\n",
       "      <td>Bob</td>\n",
       "      <td>49.0</td>\n",
       "    </tr>\n",
       "    <tr>\n",
       "      <th>2</th>\n",
       "      <td>Charlie</td>\n",
       "      <td>99.0</td>\n",
       "    </tr>\n",
       "    <tr>\n",
       "      <th>3</th>\n",
       "      <td>David</td>\n",
       "      <td>24.0</td>\n",
       "    </tr>\n",
       "  </tbody>\n",
       "</table>\n",
       "</div>"
      ],
      "text/plain": [
       "       nom   age\n",
       "0    Alice  24.0\n",
       "1      Bob  49.0\n",
       "2  Charlie  99.0\n",
       "3    David  24.0"
      ]
     },
     "execution_count": 92,
     "metadata": {},
     "output_type": "execute_result"
    }
   ],
   "source": [
    "exemple.fillna(exemple.mean())"
   ]
  },
  {
   "cell_type": "code",
   "execution_count": 93,
   "id": "a85245eb",
   "metadata": {},
   "outputs": [
    {
     "data": {
      "text/html": [
       "<div>\n",
       "<style scoped>\n",
       "    .dataframe tbody tr th:only-of-type {\n",
       "        vertical-align: middle;\n",
       "    }\n",
       "\n",
       "    .dataframe tbody tr th {\n",
       "        vertical-align: top;\n",
       "    }\n",
       "\n",
       "    .dataframe thead th {\n",
       "        text-align: right;\n",
       "    }\n",
       "</style>\n",
       "<table border=\"1\" class=\"dataframe\">\n",
       "  <thead>\n",
       "    <tr style=\"text-align: right;\">\n",
       "      <th></th>\n",
       "      <th>nom</th>\n",
       "      <th>age</th>\n",
       "    </tr>\n",
       "  </thead>\n",
       "  <tbody>\n",
       "    <tr>\n",
       "      <th>0</th>\n",
       "      <td>Alice</td>\n",
       "      <td>24.0</td>\n",
       "    </tr>\n",
       "    <tr>\n",
       "      <th>1</th>\n",
       "      <td>Bob</td>\n",
       "      <td>-1.0</td>\n",
       "    </tr>\n",
       "    <tr>\n",
       "      <th>2</th>\n",
       "      <td>Charlie</td>\n",
       "      <td>99.0</td>\n",
       "    </tr>\n",
       "    <tr>\n",
       "      <th>3</th>\n",
       "      <td>David</td>\n",
       "      <td>24.0</td>\n",
       "    </tr>\n",
       "  </tbody>\n",
       "</table>\n",
       "</div>"
      ],
      "text/plain": [
       "       nom   age\n",
       "0    Alice  24.0\n",
       "1      Bob  -1.0\n",
       "2  Charlie  99.0\n",
       "3    David  24.0"
      ]
     },
     "execution_count": 93,
     "metadata": {},
     "output_type": "execute_result"
    }
   ],
   "source": [
    "exemple.fillna(-1)"
   ]
  },
  {
   "cell_type": "code",
   "execution_count": 94,
   "id": "ddad7072",
   "metadata": {},
   "outputs": [
    {
     "data": {
      "text/html": [
       "<div>\n",
       "<style scoped>\n",
       "    .dataframe tbody tr th:only-of-type {\n",
       "        vertical-align: middle;\n",
       "    }\n",
       "\n",
       "    .dataframe tbody tr th {\n",
       "        vertical-align: top;\n",
       "    }\n",
       "\n",
       "    .dataframe thead th {\n",
       "        text-align: right;\n",
       "    }\n",
       "</style>\n",
       "<table border=\"1\" class=\"dataframe\">\n",
       "  <thead>\n",
       "    <tr style=\"text-align: right;\">\n",
       "      <th></th>\n",
       "      <th>nom</th>\n",
       "      <th>age</th>\n",
       "    </tr>\n",
       "  </thead>\n",
       "  <tbody>\n",
       "    <tr>\n",
       "      <th>0</th>\n",
       "      <td>Alice</td>\n",
       "      <td>24.0</td>\n",
       "    </tr>\n",
       "    <tr>\n",
       "      <th>1</th>\n",
       "      <td>Bob</td>\n",
       "      <td>inf</td>\n",
       "    </tr>\n",
       "    <tr>\n",
       "      <th>2</th>\n",
       "      <td>Charlie</td>\n",
       "      <td>99.0</td>\n",
       "    </tr>\n",
       "    <tr>\n",
       "      <th>3</th>\n",
       "      <td>David</td>\n",
       "      <td>24.0</td>\n",
       "    </tr>\n",
       "  </tbody>\n",
       "</table>\n",
       "</div>"
      ],
      "text/plain": [
       "       nom   age\n",
       "0    Alice  24.0\n",
       "1      Bob   inf\n",
       "2  Charlie  99.0\n",
       "3    David  24.0"
      ]
     },
     "execution_count": 94,
     "metadata": {},
     "output_type": "execute_result"
    }
   ],
   "source": [
    "exemple.fillna(np.inf)"
   ]
  },
  {
   "cell_type": "markdown",
   "id": "b5d55345-2d7d-47b5-889c-7ba241902090",
   "metadata": {},
   "source": [
    "## Git"
   ]
  },
  {
   "cell_type": "markdown",
   "id": "330b3ba5-1c43-4f7c-91a4-b23910d25b24",
   "metadata": {},
   "source": [
    "Créer un compte GitHub : https://github.com/\n",
    "\n",
    "Créer un nouveau repository :\n",
    "1. Sélectionner \"Nouveau dépôt\" dans le menu déroulant avec le signe +. \n",
    "2. Saisisser un nom pour votre dépôt (par exemple, \"TDs statistiques descriptives\") \n",
    "3. Cliquer sur \"Créer un dépôt\". Ne vous souciez pas des autres options.\n",
    "\n",
    "\n",
    "\n",
    "Télécharger Git Bash : https://git-scm.com/downloads\n",
    "\n",
    "Sur Git Bash, positionnez-vous dans le répertoire où votre projet figure.\n",
    "\n",
    "Ensuite\n",
    "\n",
    "> git init\n",
    "\n",
    "> git remote add origin https://github.com/********\n",
    "\n",
    "> git add .\n",
    "\n",
    "> git commit -m \"Ajout du TD1\"\n",
    "\n",
    "> git push origin master\n",
    "\n",
    "C'est tout ! Vous avez créé votre repo GitHub ! "
   ]
  }
 ],
 "metadata": {
  "environment": {
   "kernel": "python3",
   "name": "pytorch-gpu.1-11.m93",
   "type": "gcloud",
   "uri": "gcr.io/deeplearning-platform-release/pytorch-gpu.1-11:m93"
  },
  "kernelspec": {
   "display_name": "Python 3 (ipykernel)",
   "language": "python",
   "name": "python3"
  },
  "language_info": {
   "codemirror_mode": {
    "name": "ipython",
    "version": 3
   },
   "file_extension": ".py",
   "mimetype": "text/x-python",
   "name": "python",
   "nbconvert_exporter": "python",
   "pygments_lexer": "ipython3",
   "version": "3.11.4"
  }
 },
 "nbformat": 4,
 "nbformat_minor": 5
}
